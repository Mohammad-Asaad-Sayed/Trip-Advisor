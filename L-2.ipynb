{
 "cells": [
  {
   "cell_type": "code",
   "id": "a6ec12ca-4e86-481f-a084-83d20735761c",
   "metadata": {
    "ExecuteTime": {
     "end_time": "2025-07-09T16:11:48.440220Z",
     "start_time": "2025-07-09T16:11:30.405085Z"
    }
   },
   "source": [
    "!pip install crewai crewai_tools langchain langchain_community langchain_ollama streamlit ddgs\n",
    "!pip install ipywidgets"
   ],
   "outputs": [
    {
     "name": "stdout",
     "output_type": "stream",
     "text": [
      "Requirement already satisfied: crewai in d:\\users\\legion\\appdata\\local\\programs\\python\\python311\\lib\\site-packages (0.140.0)\n",
      "Requirement already satisfied: crewai_tools in d:\\users\\legion\\appdata\\local\\programs\\python\\python311\\lib\\site-packages (0.49.0)\n",
      "Requirement already satisfied: langchain in d:\\users\\legion\\appdata\\local\\programs\\python\\python311\\lib\\site-packages (0.3.26)\n",
      "Requirement already satisfied: langchain_community in d:\\users\\legion\\appdata\\local\\programs\\python\\python311\\lib\\site-packages (0.3.27)\n",
      "Requirement already satisfied: langchain_ollama in d:\\users\\legion\\appdata\\local\\programs\\python\\python311\\lib\\site-packages (0.3.4)\n",
      "Requirement already satisfied: streamlit in d:\\users\\legion\\appdata\\local\\programs\\python\\python311\\lib\\site-packages (1.46.1)\n",
      "Collecting ddgs\n",
      "  Using cached ddgs-9.0.0-py3-none-any.whl.metadata (15 kB)\n",
      "Requirement already satisfied: appdirs>=1.4.4 in d:\\users\\legion\\appdata\\local\\programs\\python\\python311\\lib\\site-packages (from crewai) (1.4.4)\n",
      "Requirement already satisfied: blinker>=1.9.0 in d:\\users\\legion\\appdata\\local\\programs\\python\\python311\\lib\\site-packages (from crewai) (1.9.0)\n",
      "Requirement already satisfied: chromadb>=0.5.23 in d:\\users\\legion\\appdata\\local\\programs\\python\\python311\\lib\\site-packages (from crewai) (0.5.23)\n",
      "Requirement already satisfied: click>=8.1.7 in d:\\users\\legion\\appdata\\local\\programs\\python\\python311\\lib\\site-packages (from crewai) (8.2.1)\n",
      "Requirement already satisfied: instructor>=1.3.3 in d:\\users\\legion\\appdata\\local\\programs\\python\\python311\\lib\\site-packages (from crewai) (1.9.2)\n",
      "Requirement already satisfied: json-repair==0.25.2 in d:\\users\\legion\\appdata\\local\\programs\\python\\python311\\lib\\site-packages (from crewai) (0.25.2)\n",
      "Requirement already satisfied: json5>=0.10.0 in d:\\users\\legion\\appdata\\local\\programs\\python\\python311\\lib\\site-packages (from crewai) (0.12.0)\n",
      "Requirement already satisfied: jsonref>=1.1.0 in d:\\users\\legion\\appdata\\local\\programs\\python\\python311\\lib\\site-packages (from crewai) (1.1.0)\n",
      "\n",
      "Requirement already satisfied: onnxruntime==1.22.0 in d:\\users\\legion\\appdata\\local\\programs\\python\\python311\\lib\\site-packages (from crewai) (1.22.0)\n",
      "Requirement already satisfied: openai>=1.13.3 in d:\\users\\legion\\appdata\\local\\programs\\python\\python311\\lib\\site-packages (from crewai) (1.93.3)\n",
      "Requirement already satisfied: openpyxl>=3.1.5 in d:\\users\\legion\\appdata\\local\\programs\\python\\python311\\lib\\site-packages (from crewai) (3.1.5)\n",
      "Requirement already satisfied: opentelemetry-api>=1.30.0 in d:\\users\\legion\\appdata\\local\\programs\\python\\python311\\lib\\site-packages (from crewai) (1.34.1)\n",
      "Requirement already satisfied: opentelemetry-exporter-otlp-proto-http>=1.30.0 in d:\\users\\legion\\appdata\\local\\programs\\python\\python311\\lib\\site-packages (from crewai) (1.34.1)\n",
      "Requirement already satisfied: opentelemetry-sdk>=1.30.0 in d:\\users\\legion\\appdata\\local\\programs\\python\\python311\\lib\\site-packages (from crewai) (1.34.1)\n",
      "Requirement already satisfied: pdfplumber>=0.11.4 in d:\\users\\legion\\appdata\\local\\programs\\python\\python311\\lib\\site-packages (from crewai) (0.11.7)\n",
      "Requirement already satisfied: pydantic>=2.4.2 in d:\\users\\legion\\appdata\\local\\programs\\python\\python311\\lib\\site-packages (from crewai) (2.11.7)\n",
      "Requirement already satisfied: pyjwt>=2.9.0 in d:\\users\\legion\\appdata\\local\\programs\\python\\python311\\lib\\site-packages (from crewai) (2.10.1)\n",
      "Requirement already satisfied: python-dotenv>=1.0.0 in d:\\users\\legion\\appdata\\local\\programs\\python\\python311\\lib\\site-packages (from crewai) (1.1.1)\n",
      "Requirement already satisfied: pyvis>=0.3.2 in d:\\users\\legion\\appdata\\local\\programs\\python\\python311\\lib\\site-packages (from crewai) (0.3.2)\n",
      "Requirement already satisfied: regex>=2024.9.11 in d:\\users\\legion\\appdata\\local\\programs\\python\\python311\\lib\\site-packages (from crewai) (2024.11.6)\n",
      "Requirement already satisfied: tokenizers>=0.20.3 in d:\\users\\legion\\appdata\\local\\programs\\python\\python311\\lib\\site-packages (from crewai) (0.20.3)\n",
      "Requirement already satisfied: tomli-w>=1.1.0 in d:\\users\\legion\\appdata\\local\\programs\\python\\python311\\lib\\site-packages (from crewai) (1.2.0)\n",
      "Requirement already satisfied: tomli>=2.0.2 in d:\\users\\legion\\appdata\\local\\programs\\python\\python311\\lib\\site-packages (from crewai) (2.2.1)\n",
      "Requirement already satisfied: uv>=0.4.25 in d:\\users\\legion\\appdata\\local\\programs\\python\\python311\\lib\\site-packages (from crewai) (0.7.19)\n",
      "\n",
      "\n",
      "\n",
      "\n",
      "\n",
      "\n",
      "Requirement already satisfied: coloredlogs in d:\\users\\legion\\appdata\\local\\programs\\python\\python311\\lib\\site-packages (from onnxruntime==1.22.0->crewai) (15.0.1)\n",
      "Requirement already satisfied: flatbuffers in d:\\users\\legion\\appdata\\local\\programs\\python\\python311\\lib\\site-packages (from onnxruntime==1.22.0->crewai) (25.2.10)\n",
      "Requirement already satisfied: numpy>=1.21.6 in d:\\users\\legion\\appdata\\local\\programs\\python\\python311\\lib\\site-packages (from onnxruntime==1.22.0->crewai) (2.3.1)\n",
      "Requirement already satisfied: packaging in d:\\users\\legion\\appdata\\local\\programs\\python\\python311\\lib\\site-packages (from onnxruntime==1.22.0->crewai) (24.2)\n",
      "Requirement already satisfied: protobuf in d:\\users\\legion\\appdata\\local\\programs\\python\\python311\\lib\\site-packages (from onnxruntime==1.22.0->crewai) (5.29.5)\n",
      "Requirement already satisfied: sympy in d:\\users\\legion\\appdata\\local\\programs\\python\\python311\\lib\\site-packages (from onnxruntime==1.22.0->crewai) (1.14.0)\n",
      "Requirement already satisfied: docker>=7.1.0 in d:\\users\\legion\\appdata\\local\\programs\\python\\python311\\lib\\site-packages (from crewai_tools) (7.1.0)\n",
      "Requirement already satisfied: embedchain>=0.1.114 in d:\\users\\legion\\appdata\\local\\programs\\python\\python311\\lib\\site-packages (from crewai_tools) (0.1.128)\n",
      "Requirement already satisfied: lancedb>=0.5.4 in d:\\users\\legion\\appdata\\local\\programs\\python\\python311\\lib\\site-packages (from crewai_tools) (0.24.0)\n",
      "Requirement already satisfied: pyright>=1.1.350 in d:\\users\\legion\\appdata\\local\\programs\\python\\python311\\lib\\site-packages (from crewai_tools) (1.1.403)\n",
      "Requirement already satisfied: pytube>=15.0.0 in d:\\users\\legion\\appdata\\local\\programs\\python\\python311\\lib\\site-packages (from crewai_tools) (15.0.0)\n",
      "Requirement already satisfied: requests>=2.31.0 in d:\\users\\legion\\appdata\\local\\programs\\python\\python311\\lib\\site-packages (from crewai_tools) (2.32.4)\n",
      "Requirement already satisfied: langchain-core<1.0.0,>=0.3.66 in d:\\users\\legion\\appdata\\local\\programs\\python\\python311\\lib\\site-packages (from langchain) (0.3.68)\n",
      "Requirement already satisfied: langchain-text-splitters<1.0.0,>=0.3.8 in d:\\users\\legion\\appdata\\local\\programs\\python\\python311\\lib\\site-packages (from langchain) (0.3.8)\n",
      "Requirement already satisfied: langsmith>=0.1.17 in d:\\users\\legion\\appdata\\local\\programs\\python\\python311\\lib\\site-packages (from langchain) (0.3.45)\n",
      "Requirement already satisfied: SQLAlchemy<3,>=1.4 in d:\\users\\legion\\appdata\\local\\programs\\python\\python311\\lib\\site-packages (from langchain) (2.0.41)\n",
      "Requirement already satisfied: PyYAML>=5.3 in d:\\users\\legion\\appdata\\local\\programs\\python\\python311\\lib\\site-packages (from langchain) (6.0.2)\n",
      "Requirement already satisfied: tenacity!=8.4.0,<10,>=8.1.0 in d:\\users\\legion\\appdata\\local\\programs\\python\\python311\\lib\\site-packages (from langchain_community) (9.1.2)\n",
      "Requirement already satisfied: dataclasses-json<0.7,>=0.5.7 in d:\\users\\legion\\appdata\\local\\programs\\python\\python311\\lib\\site-packages (from langchain_community) (0.6.7)\n",
      "Requirement already satisfied: pydantic-settings<3.0.0,>=2.4.0 in d:\\users\\legion\\appdata\\local\\programs\\python\\python311\\lib\\site-packages (from langchain_community) (2.10.1)\n",
      "Requirement already satisfied: httpx-sse<1.0.0,>=0.4.0 in d:\\users\\legion\\appdata\\local\\programs\\python\\python311\\lib\\site-packages (from langchain_community) (0.4.0)\n",
      "Requirement already satisfied: ollama<1.0.0,>=0.5.1 in d:\\users\\legion\\appdata\\local\\programs\\python\\python311\\lib\\site-packages (from langchain_ollama) (0.5.1)\n",
      "Requirement already satisfied: altair<6,>=4.0 in d:\\users\\legion\\appdata\\local\\programs\\python\\python311\\lib\\site-packages (from streamlit) (5.5.0)\n",
      "Requirement already satisfied: cachetools<7,>=4.0 in d:\\users\\legion\\appdata\\local\\programs\\python\\python311\\lib\\site-packages (from streamlit) (5.5.2)\n",
      "Requirement already satisfied: pandas<3,>=1.4.0 in d:\\users\\legion\\appdata\\local\\programs\\python\\python311\\lib\\site-packages (from streamlit) (2.3.1)\n",
      "Requirement already satisfied: pillow<12,>=7.1.0 in d:\\users\\legion\\appdata\\local\\programs\\python\\python311\\lib\\site-packages (from streamlit) (11.3.0)\n",
      "Requirement already satisfied: pyarrow>=7.0 in d:\\users\\legion\\appdata\\local\\programs\\python\\python311\\lib\\site-packages (from streamlit) (20.0.0)\n",
      "Requirement already satisfied: toml<2,>=0.10.1 in d:\\users\\legion\\appdata\\local\\programs\\python\\python311\\lib\\site-packages (from streamlit) (0.10.2)\n",
      "Requirement already satisfied: typing-extensions<5,>=4.4.0 in d:\\users\\legion\\appdata\\local\\programs\\python\\python311\\lib\\site-packages (from streamlit) (4.14.1)\n",
      "Requirement already satisfied: watchdog<7,>=2.1.5 in d:\\users\\legion\\appdata\\local\\programs\\python\\python311\\lib\\site-packages (from streamlit) (6.0.0)\n",
      "Requirement already satisfied: gitpython!=3.1.19,<4,>=3.0.7 in d:\\users\\legion\\appdata\\local\\programs\\python\\python311\\lib\\site-packages (from streamlit) (3.1.44)\n",
      "Requirement already satisfied: pydeck<1,>=0.8.0b4 in d:\\users\\legion\\appdata\\local\\programs\\python\\python311\\lib\\site-packages (from streamlit) (0.9.1)\n",
      "Requirement already satisfied: tornado!=6.5.0,<7,>=6.0.3 in d:\\users\\legion\\appdata\\local\\programs\\python\\python311\\lib\\site-packages (from streamlit) (6.5.1)\n",
      "Requirement already satisfied: primp>=0.15.0 in d:\\users\\legion\\appdata\\local\\programs\\python\\python311\\lib\\site-packages (from ddgs) (0.15.0)\n",
      "Requirement already satisfied: lxml>=5.3.0 in d:\\users\\legion\\appdata\\local\\programs\\python\\python311\\lib\\site-packages (from ddgs) (6.0.0)\n",
      "\n",
      "\n",
      "\n",
      "\n",
      "\n",
      "\n",
      "\n",
      "Requirement already satisfied: narwhals>=1.14.2 in d:\\users\\legion\\appdata\\local\\programs\\python\\python311\\lib\\site-packages (from altair<6,>=4.0->streamlit) (1.46.0)\n",
      "Requirement already satisfied: build>=1.0.3 in d:\\users\\legion\\appdata\\local\\programs\\python\\python311\\lib\\site-packages (from chromadb>=0.5.23->crewai) (1.2.2.post1)\n",
      "Requirement already satisfied: chroma-hnswlib==0.7.6 in d:\\users\\legion\\appdata\\local\\programs\\python\\python311\\lib\\site-packages (from chromadb>=0.5.23->crewai) (0.7.6)\n",
      "Requirement already satisfied: fastapi>=0.95.2 in d:\\users\\legion\\appdata\\local\\programs\\python\\python311\\lib\\site-packages (from chromadb>=0.5.23->crewai) (0.116.0)\n",
      "Requirement already satisfied: uvicorn>=0.18.3 in d:\\users\\legion\\appdata\\local\\programs\\python\\python311\\lib\\site-packages (from uvicorn[standard]>=0.18.3->chromadb>=0.5.23->crewai) (0.35.0)\n",
      "Requirement already satisfied: posthog>=2.4.0 in d:\\users\\legion\\appdata\\local\\programs\\python\\python311\\lib\\site-packages (from chromadb>=0.5.23->crewai) (3.25.0)\n",
      "Requirement already satisfied: opentelemetry-exporter-otlp-proto-grpc>=1.2.0 in d:\\users\\legion\\appdata\\local\\programs\\python\\python311\\lib\\site-packages (from chromadb>=0.5.23->crewai) (1.34.1)\n",
      "Requirement already satisfied: opentelemetry-instrumentation-fastapi>=0.41b0 in d:\\users\\legion\\appdata\\local\\programs\\python\\python311\\lib\\site-packages (from chromadb>=0.5.23->crewai) (0.55b1)\n",
      "Requirement already satisfied: pypika>=0.48.9 in d:\\users\\legion\\appdata\\local\\programs\\python\\python311\\lib\\site-packages (from chromadb>=0.5.23->crewai) (0.48.9)\n",
      "Requirement already satisfied: tqdm>=4.65.0 in d:\\users\\legion\\appdata\\local\\programs\\python\\python311\\lib\\site-packages (from chromadb>=0.5.23->crewai) (4.67.1)\n",
      "Requirement already satisfied: overrides>=7.3.1 in d:\\users\\legion\\appdata\\local\\programs\\python\\python311\\lib\\site-packages (from chromadb>=0.5.23->crewai) (7.7.0)\n",
      "Requirement already satisfied: importlib-resources in d:\\users\\legion\\appdata\\local\\programs\\python\\python311\\lib\\site-packages (from chromadb>=0.5.23->crewai) (6.5.2)\n",
      "Requirement already satisfied: grpcio>=1.58.0 in d:\\users\\legion\\appdata\\local\\programs\\python\\python311\\lib\\site-packages (from chromadb>=0.5.23->crewai) (1.73.1)\n",
      "Requirement already satisfied: bcrypt>=4.0.1 in d:\\users\\legion\\appdata\\local\\programs\\python\\python311\\lib\\site-packages (from chromadb>=0.5.23->crewai) (4.3.0)\n",
      "Requirement already satisfied: typer>=0.9.0 in d:\\users\\legion\\appdata\\local\\programs\\python\\python311\\lib\\site-packages (from chromadb>=0.5.23->crewai) (0.16.0)\n",
      "Requirement already satisfied: kubernetes>=28.1.0 in d:\\users\\legion\\appdata\\local\\programs\\python\\python311\\lib\\site-packages (from chromadb>=0.5.23->crewai) (33.1.0)\n",
      "Requirement already satisfied: mmh3>=4.0.1 in d:\\users\\legion\\appdata\\local\\programs\\python\\python311\\lib\\site-packages (from chromadb>=0.5.23->crewai) (5.1.0)\n",
      "Requirement already satisfied: orjson>=3.9.12 in d:\\users\\legion\\appdata\\local\\programs\\python\\python311\\lib\\site-packages (from chromadb>=0.5.23->crewai) (3.10.18)\n",
      "Requirement already satisfied: rich>=10.11.0 in d:\\users\\legion\\appdata\\local\\programs\\python\\python311\\lib\\site-packages (from chromadb>=0.5.23->crewai) (13.9.4)\n",
      "Requirement already satisfied: colorama in d:\\users\\legion\\appdata\\local\\programs\\python\\python311\\lib\\site-packages (from click>=8.1.7->crewai) (0.4.6)\n",
      "Requirement already satisfied: marshmallow<4.0.0,>=3.18.0 in d:\\users\\legion\\appdata\\local\\programs\\python\\python311\\lib\\site-packages (from dataclasses-json<0.7,>=0.5.7->langchain_community) (3.26.1)\n",
      "Requirement already satisfied: typing-inspect<1,>=0.4.0 in d:\\users\\legion\\appdata\\local\\programs\\python\\python311\\lib\\site-packages (from dataclasses-json<0.7,>=0.5.7->langchain_community) (0.9.0)\n",
      "Requirement already satisfied: pywin32>=304 in d:\\users\\legion\\appdata\\local\\programs\\python\\python311\\lib\\site-packages (from docker>=7.1.0->crewai_tools) (310)\n",
      "Requirement already satisfied: urllib3>=1.26.0 in d:\\users\\legion\\appdata\\local\\programs\\python\\python311\\lib\\site-packages (from docker>=7.1.0->crewai_tools) (2.5.0)\n",
      "Requirement already satisfied: alembic<2.0.0,>=1.13.1 in d:\\users\\legion\\appdata\\local\\programs\\python\\python311\\lib\\site-packages (from embedchain>=0.1.114->crewai_tools) (1.16.3)\n",
      "Requirement already satisfied: beautifulsoup4<5.0.0,>=4.12.2 in d:\\users\\legion\\appdata\\local\\programs\\python\\python311\\lib\\site-packages (from embedchain>=0.1.114->crewai_tools) (4.13.4)\n",
      "Requirement already satisfied: gptcache<0.2.0,>=0.1.43 in d:\\users\\legion\\appdata\\local\\programs\\python\\python311\\lib\\site-packages (from embedchain>=0.1.114->crewai_tools) (0.1.44)\n",
      "Requirement already satisfied: langchain-cohere<0.4.0,>=0.3.0 in d:\\users\\legion\\appdata\\local\\programs\\python\\python311\\lib\\site-packages (from embedchain>=0.1.114->crewai_tools) (0.3.5)\n",
      "Requirement already satisfied: langchain-openai<0.3.0,>=0.2.1 in d:\\users\\legion\\appdata\\local\\programs\\python\\python311\\lib\\site-packages (from embedchain>=0.1.114->crewai_tools) (0.2.14)\n",
      "Requirement already satisfied: mem0ai<0.2.0,>=0.1.54 in d:\\users\\legion\\appdata\\local\\programs\\python\\python311\\lib\\site-packages (from embedchain>=0.1.114->crewai_tools) (0.1.114)\n",
      "Requirement already satisfied: pypdf<6.0.0,>=5.0.0 in d:\\users\\legion\\appdata\\local\\programs\\python\\python311\\lib\\site-packages (from embedchain>=0.1.114->crewai_tools) (5.7.0)\n",
      "Requirement already satisfied: pysbd<0.4.0,>=0.3.4 in d:\\users\\legion\\appdata\\local\\programs\\python\\python311\\lib\\site-packages (from embedchain>=0.1.114->crewai_tools) (0.3.4)\n",
      "Requirement already satisfied: schema<0.8.0,>=0.7.5 in d:\\users\\legion\\appdata\\local\\programs\\python\\python311\\lib\\site-packages (from embedchain>=0.1.114->crewai_tools) (0.7.7)\n",
      "Requirement already satisfied: gitdb<5,>=4.0.1 in d:\\users\\legion\\appdata\\local\\programs\\python\\python311\\lib\\site-packages (from gitpython!=3.1.19,<4,>=3.0.7->streamlit) (4.0.12)\n",
      "Requirement already satisfied: docstring-parser<1.0,>=0.16 in d:\\users\\legion\\appdata\\local\\programs\\python\\python311\\lib\\site-packages (from instructor>=1.3.3->crewai) (0.16)\n",
      "Requirement already satisfied: jiter<0.11,>=0.6.1 in d:\\users\\legion\\appdata\\local\\programs\\python\\python311\\lib\\site-packages (from instructor>=1.3.3->crewai) (0.10.0)\n",
      "Requirement already satisfied: mkdocs-material>=9.5.49 in d:\\users\\legion\\appdata\\local\\programs\\python\\python311\\lib\\site-packages (from instructor>=1.3.3->crewai) (9.6.15)\n",
      "Requirement already satisfied: mkdocs>=1.6.1 in d:\\users\\legion\\appdata\\local\\programs\\python\\python311\\lib\\site-packages (from instructor>=1.3.3->crewai) (1.6.1)\n",
      "Requirement already satisfied: pre-commit>=4.2.0 in d:\\users\\legion\\appdata\\local\\programs\\python\\python311\\lib\\site-packages (from instructor>=1.3.3->crewai) (4.2.0)\n",
      "Requirement already satisfied: pydantic-core<3.0.0,>=2.18.0 in d:\\users\\legion\\appdata\\local\\programs\\python\\python311\\lib\\site-packages (from instructor>=1.3.3->crewai) (2.33.2)\n",
      "Requirement already satisfied: deprecation in d:\\users\\legion\\appdata\\local\\programs\\python\\python311\\lib\\site-packages (from lancedb>=0.5.4->crewai_tools) (2.1.0)\n",
      "Requirement already satisfied: jsonpatch<2.0,>=1.33 in d:\\users\\legion\\appdata\\local\\programs\\python\\python311\\lib\\site-packages (from langchain-core<1.0.0,>=0.3.66->langchain) (1.33)\n",
      "Requirement already satisfied: requests-toolbelt<2.0.0,>=1.0.0 in d:\\users\\legion\\appdata\\local\\programs\\python\\python311\\lib\\site-packages (from langsmith>=0.1.17->langchain) (1.0.0)\n",
      "Requirement already satisfied: zstandard<0.24.0,>=0.23.0 in d:\\users\\legion\\appdata\\local\\programs\\python\\python311\\lib\\site-packages (from langsmith>=0.1.17->langchain) (0.23.0)\n",
      "Requirement already satisfied: anyio<5,>=3.5.0 in d:\\users\\legion\\appdata\\local\\programs\\python\\python311\\lib\\site-packages (from openai>=1.13.3->crewai) (4.9.0)\n",
      "Requirement already satisfied: distro<2,>=1.7.0 in d:\\users\\legion\\appdata\\local\\programs\\python\\python311\\lib\\site-packages (from openai>=1.13.3->crewai) (1.9.0)\n",
      "Requirement already satisfied: sniffio in d:\\users\\legion\\appdata\\local\\programs\\python\\python311\\lib\\site-packages (from openai>=1.13.3->crewai) (1.3.1)\n",
      "Requirement already satisfied: et-xmlfile in d:\\users\\legion\\appdata\\local\\programs\\python\\python311\\lib\\site-packages (from openpyxl>=3.1.5->crewai) (2.0.0)\n",
      "Requirement already satisfied: googleapis-common-protos~=1.52 in d:\\users\\legion\\appdata\\local\\programs\\python\\python311\\lib\\site-packages (from opentelemetry-exporter-otlp-proto-http>=1.30.0->crewai) (1.70.0)\n",
      "Requirement already satisfied: opentelemetry-exporter-otlp-proto-common==1.34.1 in d:\\users\\legion\\appdata\\local\\programs\\python\\python311\\lib\\site-packages (from opentelemetry-exporter-otlp-proto-http>=1.30.0->crewai) (1.34.1)\n",
      "Requirement already satisfied: opentelemetry-proto==1.34.1 in d:\\users\\legion\\appdata\\local\\programs\\python\\python311\\lib\\site-packages (from opentelemetry-exporter-otlp-proto-http>=1.30.0->crewai) (1.34.1)\n",
      "Requirement already satisfied: opentelemetry-semantic-conventions==0.55b1 in d:\\users\\legion\\appdata\\local\\programs\\python\\python311\\lib\\site-packages (from opentelemetry-sdk>=1.30.0->crewai) (0.55b1)\n",
      "Requirement already satisfied: python-dateutil>=2.8.2 in d:\\users\\legion\\appdata\\local\\programs\\python\\python311\\lib\\site-packages (from pandas<3,>=1.4.0->streamlit) (2.9.0.post0)\n",
      "Requirement already satisfied: pytz>=2020.1 in d:\\users\\legion\\appdata\\local\\programs\\python\\python311\\lib\\site-packages (from pandas<3,>=1.4.0->streamlit) (2025.2)\n",
      "Requirement already satisfied: tzdata>=2022.7 in d:\\users\\legion\\appdata\\local\\programs\\python\\python311\\lib\\site-packages (from pandas<3,>=1.4.0->streamlit) (2025.2)\n",
      "Requirement already satisfied: pdfminer.six==20250506 in d:\\users\\legion\\appdata\\local\\programs\\python\\python311\\lib\\site-packages (from pdfplumber>=0.11.4->crewai) (20250506)\n",
      "Requirement already satisfied: pypdfium2>=4.18.0 in d:\\users\\legion\\appdata\\local\\programs\\python\\python311\\lib\\site-packages (from pdfplumber>=0.11.4->crewai) (4.30.1)\n",
      "Requirement already satisfied: charset-normalizer>=2.0.0 in d:\\users\\legion\\appdata\\local\\programs\\python\\python311\\lib\\site-packages (from pdfminer.six==20250506->pdfplumber>=0.11.4->crewai) (3.4.2)\n",
      "Requirement already satisfied: cryptography>=36.0.0 in d:\\users\\legion\\appdata\\local\\programs\\python\\python311\\lib\\site-packages (from pdfminer.six==20250506->pdfplumber>=0.11.4->crewai) (45.0.5)\n",
      "Requirement already satisfied: annotated-types>=0.6.0 in d:\\users\\legion\\appdata\\local\\programs\\python\\python311\\lib\\site-packages (from pydantic>=2.4.2->crewai) (0.7.0)\n",
      "Requirement already satisfied: typing-inspection>=0.4.0 in d:\\users\\legion\\appdata\\local\\programs\\python\\python311\\lib\\site-packages (from pydantic>=2.4.2->crewai) (0.4.1)\n",
      "Requirement already satisfied: nodeenv>=1.6.0 in d:\\users\\legion\\appdata\\local\\programs\\python\\python311\\lib\\site-packages (from pyright>=1.1.350->crewai_tools) (1.9.1)\n",
      "Requirement already satisfied: ipython>=5.3.0 in d:\\users\\legion\\appdata\\local\\programs\\python\\python311\\lib\\site-packages (from pyvis>=0.3.2->crewai) (9.4.0)\n",
      "Requirement already satisfied: jsonpickle>=1.4.1 in d:\\users\\legion\\appdata\\local\\programs\\python\\python311\\lib\\site-packages (from pyvis>=0.3.2->crewai) (4.1.1)\n",
      "Requirement already satisfied: networkx>=1.11 in d:\\users\\legion\\appdata\\local\\programs\\python\\python311\\lib\\site-packages (from pyvis>=0.3.2->crewai) (3.5)\n",
      "Requirement already satisfied: idna<4,>=2.5 in d:\\users\\legion\\appdata\\local\\programs\\python\\python311\\lib\\site-packages (from requests>=2.31.0->crewai_tools) (3.10)\n",
      "Requirement already satisfied: certifi>=2017.4.17 in d:\\users\\legion\\appdata\\local\\programs\\python\\python311\\lib\\site-packages (from requests>=2.31.0->crewai_tools) (2025.7.9)\n",
      "Requirement already satisfied: greenlet>=1 in d:\\users\\legion\\appdata\\local\\programs\\python\\python311\\lib\\site-packages (from SQLAlchemy<3,>=1.4->langchain) (3.2.3)\n",
      "Requirement already satisfied: huggingface-hub<1.0,>=0.16.4 in d:\\users\\legion\\appdata\\local\\programs\\python\\python311\\lib\\site-packages (from tokenizers>=0.20.3->crewai) (0.33.2)\n",
      "Requirement already satisfied: Mako in d:\\users\\legion\\appdata\\local\\programs\\python\\python311\\lib\\site-packages (from alembic<2.0.0,>=1.13.1->embedchain>=0.1.114->crewai_tools) (1.3.10)\n",
      "Requirement already satisfied: soupsieve>1.2 in d:\\users\\legion\\appdata\\local\\programs\\python\\python311\\lib\\site-packages (from beautifulsoup4<5.0.0,>=4.12.2->embedchain>=0.1.114->crewai_tools) (2.7)\n",
      "Requirement already satisfied: pyproject_hooks in d:\\users\\legion\\appdata\\local\\programs\\python\\python311\\lib\\site-packages (from build>=1.0.3->chromadb>=0.5.23->crewai) (1.2.0)\n",
      "Requirement already satisfied: starlette<0.47.0,>=0.40.0 in d:\\users\\legion\\appdata\\local\\programs\\python\\python311\\lib\\site-packages (from fastapi>=0.95.2->chromadb>=0.5.23->crewai) (0.46.2)\n",
      "Requirement already satisfied: smmap<6,>=3.0.1 in d:\\users\\legion\\appdata\\local\\programs\\python\\python311\\lib\\site-packages (from gitdb<5,>=4.0.1->gitpython!=3.1.19,<4,>=3.0.7->streamlit) (5.0.2)\n",
      "\n",
      "\n",
      "Requirement already satisfied: filelock in d:\\users\\legion\\appdata\\local\\programs\\python\\python311\\lib\\site-packages (from huggingface-hub<1.0,>=0.16.4->tokenizers>=0.20.3->crewai) (3.18.0)\n",
      "Requirement already satisfied: fsspec>=2023.5.0 in d:\\users\\legion\\appdata\\local\\programs\\python\\python311\\lib\\site-packages (from huggingface-hub<1.0,>=0.16.4->tokenizers>=0.20.3->crewai) (2025.5.1)\n",
      "\n",
      "Requirement already satisfied: decorator in d:\\users\\legion\\appdata\\local\\programs\\python\\python311\\lib\\site-packages (from ipython>=5.3.0->pyvis>=0.3.2->crewai) (5.2.1)\n",
      "Requirement already satisfied: ipython-pygments-lexers in d:\\users\\legion\\appdata\\local\\programs\\python\\python311\\lib\\site-packages (from ipython>=5.3.0->pyvis>=0.3.2->crewai) (1.1.1)\n",
      "Requirement already satisfied: jedi>=0.16 in d:\\users\\legion\\appdata\\local\\programs\\python\\python311\\lib\\site-packages (from ipython>=5.3.0->pyvis>=0.3.2->crewai) (0.19.2)\n",
      "Requirement already satisfied: matplotlib-inline in d:\\users\\legion\\appdata\\local\\programs\\python\\python311\\lib\\site-packages (from ipython>=5.3.0->pyvis>=0.3.2->crewai) (0.1.7)\n",
      "Requirement already satisfied: prompt_toolkit<3.1.0,>=3.0.41 in d:\\users\\legion\\appdata\\local\\programs\\python\\python311\\lib\\site-packages (from ipython>=5.3.0->pyvis>=0.3.2->crewai) (3.0.51)\n",
      "Requirement already satisfied: pygments>=2.4.0 in d:\\users\\legion\\appdata\\local\\programs\\python\\python311\\lib\\site-packages (from ipython>=5.3.0->pyvis>=0.3.2->crewai) (2.19.2)\n",
      "Requirement already satisfied: stack_data in d:\\users\\legion\\appdata\\local\\programs\\python\\python311\\lib\\site-packages (from ipython>=5.3.0->pyvis>=0.3.2->crewai) (0.6.3)\n",
      "Requirement already satisfied: traitlets>=5.13.0 in d:\\users\\legion\\appdata\\local\\programs\\python\\python311\\lib\\site-packages (from ipython>=5.3.0->pyvis>=0.3.2->crewai) (5.14.3)\n",
      "\n",
      "Requirement already satisfied: jsonpointer>=1.9 in d:\\users\\legion\\appdata\\local\\programs\\python\\python311\\lib\\site-packages (from jsonpatch<2.0,>=1.33->langchain-core<1.0.0,>=0.3.66->langchain) (3.0.0)\n",
      "\n",
      "\n",
      "\n",
      "Requirement already satisfied: six>=1.9.0 in d:\\users\\legion\\appdata\\local\\programs\\python\\python311\\lib\\site-packages (from kubernetes>=28.1.0->chromadb>=0.5.23->crewai) (1.17.0)\n",
      "Requirement already satisfied: google-auth>=1.0.1 in d:\\users\\legion\\appdata\\local\\programs\\python\\python311\\lib\\site-packages (from kubernetes>=28.1.0->chromadb>=0.5.23->crewai) (2.40.3)\n",
      "Requirement already satisfied: websocket-client!=0.40.0,!=0.41.*,!=0.42.*,>=0.32.0 in d:\\users\\legion\\appdata\\local\\programs\\python\\python311\\lib\\site-packages (from kubernetes>=28.1.0->chromadb>=0.5.23->crewai) (1.8.0)\n",
      "Requirement already satisfied: requests-oauthlib in d:\\users\\legion\\appdata\\local\\programs\\python\\python311\\lib\\site-packages (from kubernetes>=28.1.0->chromadb>=0.5.23->crewai) (2.0.0)\n",
      "Requirement already satisfied: oauthlib>=3.2.2 in d:\\users\\legion\\appdata\\local\\programs\\python\\python311\\lib\\site-packages (from kubernetes>=28.1.0->chromadb>=0.5.23->crewai) (3.3.1)\n",
      "Requirement already satisfied: durationpy>=0.7 in d:\\users\\legion\\appdata\\local\\programs\\python\\python311\\lib\\site-packages (from kubernetes>=28.1.0->chromadb>=0.5.23->crewai) (0.10)\n",
      "Requirement already satisfied: cohere<6.0,>=5.5.6 in d:\\users\\legion\\appdata\\local\\programs\\python\\python311\\lib\\site-packages (from langchain-cohere<0.4.0,>=0.3.0->embedchain>=0.1.114->crewai_tools) (5.15.0)\n",
      "Requirement already satisfied: langchain-experimental<0.4.0,>=0.3.0 in d:\\users\\legion\\appdata\\local\\programs\\python\\python311\\lib\\site-packages (from langchain-cohere<0.4.0,>=0.3.0->embedchain>=0.1.114->crewai_tools) (0.3.4)\n",
      "Requirement already satisfied: tabulate<0.10.0,>=0.9.0 in d:\\users\\legion\\appdata\\local\\programs\\python\\python311\\lib\\site-packages (from langchain-cohere<0.4.0,>=0.3.0->embedchain>=0.1.114->crewai_tools) (0.9.0)\n",
      "Requirement already satisfied: qdrant-client>=1.9.1 in d:\\users\\legion\\appdata\\local\\programs\\python\\python311\\lib\\site-packages (from mem0ai<0.2.0,>=0.1.54->embedchain>=0.1.114->crewai_tools) (1.14.3)\n",
      "Requirement already satisfied: ghp-import>=1.0 in d:\\users\\legion\\appdata\\local\\programs\\python\\python311\\lib\\site-packages (from mkdocs>=1.6.1->instructor>=1.3.3->crewai) (2.1.0)\n",
      "Requirement already satisfied: markdown>=3.3.6 in d:\\users\\legion\\appdata\\local\\programs\\python\\python311\\lib\\site-packages (from mkdocs>=1.6.1->instructor>=1.3.3->crewai) (3.8.2)\n",
      "Requirement already satisfied: mergedeep>=1.3.4 in d:\\users\\legion\\appdata\\local\\programs\\python\\python311\\lib\\site-packages (from mkdocs>=1.6.1->instructor>=1.3.3->crewai) (1.3.4)\n",
      "Requirement already satisfied: mkdocs-get-deps>=0.2.0 in d:\\users\\legion\\appdata\\local\\programs\\python\\python311\\lib\\site-packages (from mkdocs>=1.6.1->instructor>=1.3.3->crewai) (0.2.0)\n",
      "Requirement already satisfied: pathspec>=0.11.1 in d:\\users\\legion\\appdata\\local\\programs\\python\\python311\\lib\\site-packages (from mkdocs>=1.6.1->instructor>=1.3.3->crewai) (0.12.1)\n",
      "Requirement already satisfied: pyyaml-env-tag>=0.1 in d:\\users\\legion\\appdata\\local\\programs\\python\\python311\\lib\\site-packages (from mkdocs>=1.6.1->instructor>=1.3.3->crewai) (1.1)\n",
      "Requirement already satisfied: babel~=2.10 in d:\\users\\legion\\appdata\\local\\programs\\python\\python311\\lib\\site-packages (from mkdocs-material>=9.5.49->instructor>=1.3.3->crewai) (2.17.0)\n",
      "Requirement already satisfied: backrefs~=5.7.post1 in d:\\users\\legion\\appdata\\local\\programs\\python\\python311\\lib\\site-packages (from mkdocs-material>=9.5.49->instructor>=1.3.3->crewai) (5.9)\n",
      "Requirement already satisfied: mkdocs-material-extensions~=1.3 in d:\\users\\legion\\appdata\\local\\programs\\python\\python311\\lib\\site-packages (from mkdocs-material>=9.5.49->instructor>=1.3.3->crewai) (1.3.1)\n",
      "Requirement already satisfied: paginate~=0.5 in d:\\users\\legion\\appdata\\local\\programs\\python\\python311\\lib\\site-packages (from mkdocs-material>=9.5.49->instructor>=1.3.3->crewai) (0.5.7)\n",
      "Requirement already satisfied: pymdown-extensions~=10.2 in d:\\users\\legion\\appdata\\local\\programs\\python\\python311\\lib\\site-packages (from mkdocs-material>=9.5.49->instructor>=1.3.3->crewai) (10.16)\n",
      "Requirement already satisfied: opentelemetry-instrumentation-asgi==0.55b1 in d:\\users\\legion\\appdata\\local\\programs\\python\\python311\\lib\\site-packages (from opentelemetry-instrumentation-fastapi>=0.41b0->chromadb>=0.5.23->crewai) (0.55b1)\n",
      "Requirement already satisfied: opentelemetry-instrumentation==0.55b1 in d:\\users\\legion\\appdata\\local\\programs\\python\\python311\\lib\\site-packages (from opentelemetry-instrumentation-fastapi>=0.41b0->chromadb>=0.5.23->crewai) (0.55b1)\n",
      "Requirement already satisfied: opentelemetry-util-http==0.55b1 in d:\\users\\legion\\appdata\\local\\programs\\python\\python311\\lib\\site-packages (from opentelemetry-instrumentation-fastapi>=0.41b0->chromadb>=0.5.23->crewai) (0.55b1)\n",
      "Requirement already satisfied: wrapt<2.0.0,>=1.0.0 in d:\\users\\legion\\appdata\\local\\programs\\python\\python311\\lib\\site-packages (from opentelemetry-instrumentation==0.55b1->opentelemetry-instrumentation-fastapi>=0.41b0->chromadb>=0.5.23->crewai) (1.17.2)\n",
      "Requirement already satisfied: asgiref~=3.0 in d:\\users\\legion\\appdata\\local\\programs\\python\\python311\\lib\\site-packages (from opentelemetry-instrumentation-asgi==0.55b1->opentelemetry-instrumentation-fastapi>=0.41b0->chromadb>=0.5.23->crewai) (3.9.1)\n",
      "Requirement already satisfied: monotonic>=1.5 in d:\\users\\legion\\appdata\\local\\programs\\python\\python311\\lib\\site-packages (from posthog>=2.4.0->chromadb>=0.5.23->crewai) (1.6)\n",
      "Requirement already satisfied: backoff>=1.10.0 in d:\\users\\legion\\appdata\\local\\programs\\python\\python311\\lib\\site-packages (from posthog>=2.4.0->chromadb>=0.5.23->crewai) (2.2.1)\n",
      "Requirement already satisfied: cfgv>=2.0.0 in d:\\users\\legion\\appdata\\local\\programs\\python\\python311\\lib\\site-packages (from pre-commit>=4.2.0->instructor>=1.3.3->crewai) (3.4.0)\n",
      "Requirement already satisfied: identify>=1.0.0 in d:\\users\\legion\\appdata\\local\\programs\\python\\python311\\lib\\site-packages (from pre-commit>=4.2.0->instructor>=1.3.3->crewai) (2.6.12)\n",
      "Requirement already satisfied: virtualenv>=20.10.0 in d:\\users\\legion\\appdata\\local\\programs\\python\\python311\\lib\\site-packages (from pre-commit>=4.2.0->instructor>=1.3.3->crewai) (20.31.2)\n",
      "Requirement already satisfied: markdown-it-py>=2.2.0 in d:\\users\\legion\\appdata\\local\\programs\\python\\python311\\lib\\site-packages (from rich>=10.11.0->chromadb>=0.5.23->crewai) (3.0.0)\n",
      "Requirement already satisfied: shellingham>=1.3.0 in d:\\users\\legion\\appdata\\local\\programs\\python\\python311\\lib\\site-packages (from typer>=0.9.0->chromadb>=0.5.23->crewai) (1.5.4)\n",
      "Requirement already satisfied: mypy-extensions>=0.3.0 in d:\\users\\legion\\appdata\\local\\programs\\python\\python311\\lib\\site-packages (from typing-inspect<1,>=0.4.0->dataclasses-json<0.7,>=0.5.7->langchain_community) (1.1.0)\n",
      "Requirement already satisfied: httptools>=0.6.3 in d:\\users\\legion\\appdata\\local\\programs\\python\\python311\\lib\\site-packages (from uvicorn[standard]>=0.18.3->chromadb>=0.5.23->crewai) (0.6.4)\n",
      "Requirement already satisfied: watchfiles>=0.13 in d:\\users\\legion\\appdata\\local\\programs\\python\\python311\\lib\\site-packages (from uvicorn[standard]>=0.18.3->chromadb>=0.5.23->crewai) (1.1.0)\n",
      "Requirement already satisfied: websockets>=10.4 in d:\\users\\legion\\appdata\\local\\programs\\python\\python311\\lib\\site-packages (from uvicorn[standard]>=0.18.3->chromadb>=0.5.23->crewai) (15.0.1)\n",
      "Requirement already satisfied: humanfriendly>=9.1 in d:\\users\\legion\\appdata\\local\\programs\\python\\python311\\lib\\site-packages (from coloredlogs->onnxruntime==1.22.0->crewai) (10.0)\n",
      "Requirement already satisfied: mpmath<1.4,>=1.1.0 in d:\\users\\legion\\appdata\\local\\programs\\python\\python311\\lib\\site-packages (from sympy->onnxruntime==1.22.0->crewai) (1.3.0)\n",
      "Requirement already satisfied: fastavro<2.0.0,>=1.9.4 in d:\\users\\legion\\appdata\\local\\programs\\python\\python311\\lib\\site-packages (from cohere<6.0,>=5.5.6->langchain-cohere<0.4.0,>=0.3.0->embedchain>=0.1.114->crewai_tools) (1.11.1)\n",
      "Requirement already satisfied: types-requests<3.0.0,>=2.0.0 in d:\\users\\legion\\appdata\\local\\programs\\python\\python311\\lib\\site-packages (from cohere<6.0,>=5.5.6->langchain-cohere<0.4.0,>=0.3.0->embedchain>=0.1.114->crewai_tools) (2.32.4.20250611)\n",
      "Requirement already satisfied: cffi>=1.14 in d:\\users\\legion\\appdata\\local\\programs\\python\\python311\\lib\\site-packages (from cryptography>=36.0.0->pdfminer.six==20250506->pdfplumber>=0.11.4->crewai) (1.17.1)\n",
      "Requirement already satisfied: pyasn1-modules>=0.2.1 in d:\\users\\legion\\appdata\\local\\programs\\python\\python311\\lib\\site-packages (from google-auth>=1.0.1->kubernetes>=28.1.0->chromadb>=0.5.23->crewai) (0.4.2)\n",
      "Requirement already satisfied: rsa<5,>=3.1.4 in d:\\users\\legion\\appdata\\local\\programs\\python\\python311\\lib\\site-packages (from google-auth>=1.0.1->kubernetes>=28.1.0->chromadb>=0.5.23->crewai) (4.9.1)\n",
      "Requirement already satisfied: pyreadline3 in d:\\users\\legion\\appdata\\local\\programs\\python\\python311\\lib\\site-packages (from humanfriendly>=9.1->coloredlogs->onnxruntime==1.22.0->crewai) (3.5.4)\n",
      "Requirement already satisfied: parso<0.9.0,>=0.8.4 in d:\\users\\legion\\appdata\\local\\programs\\python\\python311\\lib\\site-packages (from jedi>=0.16->ipython>=5.3.0->pyvis>=0.3.2->crewai) (0.8.4)\n",
      "Requirement already satisfied: mdurl~=0.1 in d:\\users\\legion\\appdata\\local\\programs\\python\\python311\\lib\\site-packages (from markdown-it-py>=2.2.0->rich>=10.11.0->chromadb>=0.5.23->crewai) (0.1.2)\n",
      "Requirement already satisfied: platformdirs>=2.2.0 in d:\\users\\legion\\appdata\\local\\programs\\python\\python311\\lib\\site-packages (from mkdocs-get-deps>=0.2.0->mkdocs>=1.6.1->instructor>=1.3.3->crewai) (4.3.8)\n",
      "Requirement already satisfied: wcwidth in d:\\users\\legion\\appdata\\local\\programs\\python\\python311\\lib\\site-packages (from prompt_toolkit<3.1.0,>=3.0.41->ipython>=5.3.0->pyvis>=0.3.2->crewai) (0.2.13)\n",
      "Requirement already satisfied: portalocker<3.0.0,>=2.7.0 in d:\\users\\legion\\appdata\\local\\programs\\python\\python311\\lib\\site-packages (from qdrant-client>=1.9.1->mem0ai<0.2.0,>=0.1.54->embedchain>=0.1.114->crewai_tools) (2.10.1)\n",
      "Requirement already satisfied: distlib<1,>=0.3.7 in d:\\users\\legion\\appdata\\local\\programs\\python\\python311\\lib\\site-packages (from virtualenv>=20.10.0->pre-commit>=4.2.0->instructor>=1.3.3->crewai) (0.3.9)\n",
      "Requirement already satisfied: executing>=1.2.0 in d:\\users\\legion\\appdata\\local\\programs\\python\\python311\\lib\\site-packages (from stack_data->ipython>=5.3.0->pyvis>=0.3.2->crewai) (2.2.0)\n",
      "Requirement already satisfied: asttokens>=2.1.0 in d:\\users\\legion\\appdata\\local\\programs\\python\\python311\\lib\\site-packages (from stack_data->ipython>=5.3.0->pyvis>=0.3.2->crewai) (3.0.0)\n",
      "Requirement already satisfied: pure-eval in d:\\users\\legion\\appdata\\local\\programs\\python\\python311\\lib\\site-packages (from stack_data->ipython>=5.3.0->pyvis>=0.3.2->crewai) (0.2.3)\n",
      "Requirement already satisfied: pycparser in d:\\users\\legion\\appdata\\local\\programs\\python\\python311\\lib\\site-packages (from cffi>=1.14->cryptography>=36.0.0->pdfminer.six==20250506->pdfplumber>=0.11.4->crewai) (2.22)\n",
      "Requirement already satisfied: h2<5,>=3 in d:\\users\\legion\\appdata\\local\\programs\\python\\python311\\lib\\site-packages (from httpx[http2]>=0.20.0->qdrant-client>=1.9.1->mem0ai<0.2.0,>=0.1.54->embedchain>=0.1.114->crewai_tools) (4.2.0)\n",
      "Requirement already satisfied: pyasn1<0.7.0,>=0.6.1 in d:\\users\\legion\\appdata\\local\\programs\\python\\python311\\lib\\site-packages (from pyasn1-modules>=0.2.1->google-auth>=1.0.1->kubernetes>=28.1.0->chromadb>=0.5.23->crewai) (0.6.1)\n",
      "Requirement already satisfied: hyperframe<7,>=6.1 in d:\\users\\legion\\appdata\\local\\programs\\python\\python311\\lib\\site-packages (from h2<5,>=3->httpx[http2]>=0.20.0->qdrant-client>=1.9.1->mem0ai<0.2.0,>=0.1.54->embedchain>=0.1.114->crewai_tools) (6.1.0)\n",
      "Requirement already satisfied: hpack<5,>=4.1 in d:\\users\\legion\\appdata\\local\\programs\\python\\python311\\lib\\site-packages (from h2<5,>=3->httpx[http2]>=0.20.0->qdrant-client>=1.9.1->mem0ai<0.2.0,>=0.1.54->embedchain>=0.1.114->crewai_tools) (4.1.0)\n",
      "Downloading ddgs-9.0.0-py3-none-any.whl (17 kB)\n",
      "Installing collected packages: ddgs\n",
      "Successfully installed ddgs-9.0.0\n"
     ]
    },
    {
     "name": "stderr",
     "output_type": "stream",
     "text": [
      "\n",
      "[notice] A new release of pip is available: 24.0 -> 25.1.1\n",
      "[notice] To update, run: python.exe -m pip install --upgrade pip\n"
     ]
    },
    {
     "name": "stdout",
     "output_type": "stream",
     "text": [
      "Requirement already satisfied: ipywidgets in d:\\users\\legion\\appdata\\local\\programs\\python\\python311\\lib\\site-packages (8.1.7)\n",
      "Requirement already satisfied: comm>=0.1.3 in d:\\users\\legion\\appdata\\local\\programs\\python\\python311\\lib\\site-packages (from ipywidgets) (0.2.2)\n",
      "Requirement already satisfied: ipython>=6.1.0 in d:\\users\\legion\\appdata\\local\\programs\\python\\python311\\lib\\site-packages (from ipywidgets) (9.4.0)\n",
      "Requirement already satisfied: traitlets>=4.3.1 in d:\\users\\legion\\appdata\\local\\programs\\python\\python311\\lib\\site-packages (from ipywidgets) (5.14.3)\n",
      "Requirement already satisfied: widgetsnbextension~=4.0.14 in d:\\users\\legion\\appdata\\local\\programs\\python\\python311\\lib\\site-packages (from ipywidgets) (4.0.14)\n",
      "Requirement already satisfied: jupyterlab_widgets~=3.0.15 in d:\\users\\legion\\appdata\\local\\programs\\python\\python311\\lib\\site-packages (from ipywidgets) (3.0.15)\n",
      "Requirement already satisfied: colorama in d:\\users\\legion\\appdata\\local\\programs\\python\\python311\\lib\\site-packages (from ipython>=6.1.0->ipywidgets) (0.4.6)\n",
      "Requirement already satisfied: decorator in d:\\users\\legion\\appdata\\local\\programs\\python\\python311\\lib\\site-packages (from ipython>=6.1.0->ipywidgets) (5.2.1)\n",
      "Requirement already satisfied: ipython-pygments-lexers in d:\\users\\legion\\appdata\\local\\programs\\python\\python311\\lib\\site-packages (from ipython>=6.1.0->ipywidgets) (1.1.1)\n",
      "Requirement already satisfied: jedi>=0.16 in d:\\users\\legion\\appdata\\local\\programs\\python\\python311\\lib\\site-packages (from ipython>=6.1.0->ipywidgets) (0.19.2)\n",
      "Requirement already satisfied: matplotlib-inline in d:\\users\\legion\\appdata\\local\\programs\\python\\python311\\lib\\site-packages (from ipython>=6.1.0->ipywidgets) (0.1.7)\n",
      "Requirement already satisfied: prompt_toolkit<3.1.0,>=3.0.41 in d:\\users\\legion\\appdata\\local\\programs\\python\\python311\\lib\\site-packages (from ipython>=6.1.0->ipywidgets) (3.0.51)\n",
      "Requirement already satisfied: pygments>=2.4.0 in d:\\users\\legion\\appdata\\local\\programs\\python\\python311\\lib\\site-packages (from ipython>=6.1.0->ipywidgets) (2.19.2)\n",
      "Requirement already satisfied: stack_data in d:\\users\\legion\\appdata\\local\\programs\\python\\python311\\lib\\site-packages (from ipython>=6.1.0->ipywidgets) (0.6.3)\n",
      "Requirement already satisfied: typing_extensions>=4.6 in d:\\users\\legion\\appdata\\local\\programs\\python\\python311\\lib\\site-packages (from ipython>=6.1.0->ipywidgets) (4.14.1)\n",
      "Requirement already satisfied: parso<0.9.0,>=0.8.4 in d:\\users\\legion\\appdata\\local\\programs\\python\\python311\\lib\\site-packages (from jedi>=0.16->ipython>=6.1.0->ipywidgets) (0.8.4)\n",
      "Requirement already satisfied: wcwidth in d:\\users\\legion\\appdata\\local\\programs\\python\\python311\\lib\\site-packages (from prompt_toolkit<3.1.0,>=3.0.41->ipython>=6.1.0->ipywidgets) (0.2.13)\n",
      "Requirement already satisfied: executing>=1.2.0 in d:\\users\\legion\\appdata\\local\\programs\\python\\python311\\lib\\site-packages (from stack_data->ipython>=6.1.0->ipywidgets) (2.2.0)\n",
      "Requirement already satisfied: asttokens>=2.1.0 in d:\\users\\legion\\appdata\\local\\programs\\python\\python311\\lib\\site-packages (from stack_data->ipython>=6.1.0->ipywidgets) (3.0.0)\n",
      "Requirement already satisfied: pure-eval in d:\\users\\legion\\appdata\\local\\programs\\python\\python311\\lib\\site-packages (from stack_data->ipython>=6.1.0->ipywidgets) (0.2.3)\n"
     ]
    },
    {
     "name": "stderr",
     "output_type": "stream",
     "text": [
      "\n",
      "[notice] A new release of pip is available: 24.0 -> 25.1.1\n",
      "[notice] To update, run: python.exe -m pip install --upgrade pip\n"
     ]
    }
   ],
   "execution_count": 35
  },
  {
   "cell_type": "code",
   "id": "2ec98490-8bdf-49b0-87ef-acc499e4cfad",
   "metadata": {
    "ExecuteTime": {
     "end_time": "2025-07-09T16:08:53.951273Z",
     "start_time": "2025-07-09T16:08:53.947317Z"
    }
   },
   "source": [
    "from crewai import LLM\n",
    "from langchain_ollama.llms import OllamaLLM\n",
    "\n",
    "llm = LLM(\n",
    "    model=\"ollama/llama3.2\",\n",
    "    base_url=\"http://localhost:11434\"\n",
    ")\n"
   ],
   "outputs": [],
   "execution_count": 24
  },
  {
   "cell_type": "code",
   "id": "ef2309cd-39b4-4f49-b89e-cef9b29bc359",
   "metadata": {
    "ExecuteTime": {
     "end_time": "2025-07-09T16:08:53.964644Z",
     "start_time": "2025-07-09T16:08:53.960421Z"
    }
   },
   "source": [
    "from crewai.tools import tool\n",
    "from langchain_community.tools import DuckDuckGoSearchResults \n",
    "import json\n",
    "\n",
    "\n",
    "@tool\n",
    "def search_web_tool(query: str):\n",
    "    \"\"\"\n",
    "    Searches the web and returns results.\n",
    "    \"\"\"\n",
    "    search_tool = DuckDuckGoSearchResults(num_results=10, verbose=True)\n",
    "    return search_tool.run(query)\n"
   ],
   "outputs": [],
   "execution_count": 25
  },
  {
   "cell_type": "code",
   "id": "1799b2b8-d2cd-479d-beec-72aa1c369279",
   "metadata": {
    "ExecuteTime": {
     "end_time": "2025-07-09T16:08:53.975911Z",
     "start_time": "2025-07-09T16:08:53.970722Z"
    }
   },
   "source": [
    "from crewai import Agent\n",
    "\n",
    "# Agent Resercher\n",
    "guide_expert= Agent( \n",
    "    role=\"City Local Guide Expert\",\n",
    "    goal=\"Provides information on things to do in the city based on the user's interests.\",\n",
    "    backstory=\"\"\"A local expert with a passion for sharing the best experiences and hidden gems of their city.\"\"\",\n",
    "    tools=[search_web_tool],\n",
    "    verbose=True,\n",
    "    max_iter=15,\n",
    "    llm=LLM(model=\"ollama/llama3.2\",base_url=\"http://localhost:11434\"),  #ChatOpenAI(temperature=0, model=\"gpt-4o-mini\"),\n",
    "    allow_delegation=False,\n",
    "    )"
   ],
   "outputs": [],
   "execution_count": 26
  },
  {
   "cell_type": "code",
   "id": "035bc04e-e8a3-4534-8814-79416ddf14b3",
   "metadata": {
    "ExecuteTime": {
     "end_time": "2025-07-09T16:11:53.826464Z",
     "start_time": "2025-07-09T16:11:53.818464Z"
    }
   },
   "source": [
    "# Agent city expert\n",
    "location_expert = Agent(\n",
    "    role=\"Travel Trip Expert\",\n",
    "    goal=\"Adapt to the user destination vity language (French if city in French Country. Gather helpful information about to the city and city during travel.\",\n",
    "    backstory=\"\"\"A seasoned traveler who has explored various destinations and knows the ins and outs of travel logistics.\"\"\",\n",
    "    tools=[search_web_tool],\n",
    "    verbose=True,\n",
    "    max_iter=15,\n",
    "    llm=LLM(model=\"ollama/llama3.2\",base_url=\"http://localhost:11434\"),\n",
    "    allow_delegation=False,\n",
    "    )\n"
   ],
   "outputs": [],
   "execution_count": 36
  },
  {
   "cell_type": "code",
   "id": "a54e6e1c-ea98-4a01-838d-5b5de1c532c2",
   "metadata": {
    "ExecuteTime": {
     "end_time": "2025-07-09T16:08:53.999774Z",
     "start_time": "2025-07-09T16:08:53.992775Z"
    }
   },
   "source": [
    "planner_expert = Agent(\n",
    "    role=\"Travel Planning Expert\",\n",
    "    goal=\"Compiles all gathered information to provide a comprehensive travel plan.\",\n",
    "    backstory=\"\"\"\n",
    "    You are a professional guide with a passion for travel.\n",
    "    An organizational wizard who can turn a list of possibilities into a seamless itinerary.\n",
    "    \"\"\",\n",
    "    tools=[search_web_tool],\n",
    "    verbose=True,\n",
    "    max_iter=15,\n",
    "    llm=LLM(model=\"ollama/llama3.2\",base_url=\"http://localhost:11434\"),\n",
    "    allow_delegation=False,\n",
    "    )\n"
   ],
   "outputs": [],
   "execution_count": 28
  },
  {
   "cell_type": "code",
   "id": "5dc297eb-bc41-44cd-a89b-80b90f35b0e8",
   "metadata": {
    "ExecuteTime": {
     "end_time": "2025-07-09T16:08:54.013408Z",
     "start_time": "2025-07-09T16:08:54.008238Z"
    }
   },
   "source": [
    "from datetime import datetime\n",
    "from crewai import Task\n",
    "\n",
    "from_city = \"India\"\n",
    "destination_city = \"Rome\"\n",
    "date_from = \"1st March 2025\"\n",
    "date_to = \"7th March 2025\"\n",
    "interests = \"sight seeing and good food\"\n",
    "\n",
    "location_task = Task(\n",
    "    description=f\"\"\"\n",
    "    In French : This task involves a comprehensive data collection process to provide the traveler with essential information about their destination. It includes researching and compiling details on various accommodations, ranging from budget-friendly hostels to luxury hotels, as well as estimating the cost of living in the area. The task also covers transportation options, visa requirements, and any travel advisories that may be relevant.\n",
    "    consider also the weather conditions forcast on the travel dates. and all the events that may be relevant to the traveler during the trip period.\n",
    "    \n",
    "    Traveling from : {from_city}\n",
    "    Destination city : {destination_city}\n",
    "    Arrival Date : {date_from}\n",
    "    Departure Date : {date_to}\n",
    "\n",
    "    Follow this rules : \n",
    "    1. if the {destination_city} is in a French country : Respond in FRENCH.\n",
    "    \"\"\",\n",
    "    expected_output=f\"\"\"\n",
    "    if the {destination_city} is in a French country : Respond in FRENCH.\n",
    "    In markdown format : A detailed markdown report that includes a curated list of recommended places to stay, a breakdown of daily living expenses, and practical travel tips to ensure a smooth journey.\n",
    "    \"\"\",\n",
    "    agent=location_expert,\n",
    "    output_file='city_report.md',\n",
    ")\n",
    "\n",
    "\n",
    "\n"
   ],
   "outputs": [],
   "execution_count": 29
  },
  {
   "cell_type": "code",
   "id": "ec1c9e2d-7a7d-43fb-8eef-6a6c43a65edc",
   "metadata": {
    "ExecuteTime": {
     "end_time": "2025-07-09T16:08:54.027877Z",
     "start_time": "2025-07-09T16:08:54.023451Z"
    }
   },
   "source": [
    "guide_task = Task(\n",
    "    description=f\"\"\"\n",
    "    if the {destination_city} is in a French country : Respond in FRENCH.\n",
    "    Tailored to the traveler's personal {interests}, this task focuses on creating an engaging and informative guide to the city's attractions. It involves identifying cultural landmarks, historical spots, entertainment venues, dining experiences, and outdoor activities that align with the user's preferences such {interests}. The guide also highlights seasonal events and festivals that might be of interest during the traveler's visit.\n",
    "    Destination city : {destination_city}\n",
    "    interests : {interests}\n",
    "    Arrival Date : {date_from}\n",
    "    Departure Date : {date_to}\n",
    "\n",
    "    Follow this rules : \n",
    "    1. if the {destination_city} is in a French country : Respond in FRENCH.\n",
    "    \"\"\",\n",
    "    expected_output=f\"\"\"\n",
    "    An interactive markdown report that presents a personalized itinerary of activities and attractions, complete with descriptions, locations, and any necessary reservations or tickets.\n",
    "    \"\"\",\n",
    "\n",
    "    agent=guide_expert,\n",
    "    output_file='guide_report.md',\n",
    ")\n"
   ],
   "outputs": [],
   "execution_count": 30
  },
  {
   "cell_type": "code",
   "id": "a8d26c58-d17c-481e-8f97-1f6c2f17eacb",
   "metadata": {
    "ExecuteTime": {
     "end_time": "2025-07-09T16:08:54.038202Z",
     "start_time": "2025-07-09T16:08:54.033883Z"
    }
   },
   "source": [
    "planner_task = Task(\n",
    "    description=f\"\"\"\n",
    "    This task synthesizes all collected information into a detaileds introduction to the city (description of city and presentation, in 3 pragraphes) cohesive and practical travel plan. and takes into account the traveler's schedule, preferences, and budget to draft a day-by-day itinerary. The planner also provides insights into the city's layout and transportation system to facilitate easy navigation.\n",
    "    Destination city : {destination_city}\n",
    "    interests : {interests}\n",
    "    Arrival Date : {date_from}\n",
    "    Departure Date : {date_to}\n",
    "\n",
    "    Follow this rules : \n",
    "    1. if the {destination_city} is in a French country : Respond in FRENCH.\n",
    "    \"\"\",\n",
    "    expected_output=\"\"\"\n",
    "    if the {destination_city} is in a French country : Respond in FRENCH.\n",
    "    A rich markdown document with emojis on each title and subtitle, that :\n",
    "    In markdown format : \n",
    "    # Welcome to {destination_city} :\n",
    "    A 4 paragraphes markdown formated including :\n",
    "    - a curated articles of presentation of the city, \n",
    "    - a breakdown of daily living expenses, and spots to visit.\n",
    "    # Here's your Travel Plan to {destination_city} :\n",
    "    Outlines a daily detailed travel plan list with time allocations and details for each activity, along with an overview of the city's highlights based on the guide's recommendations\n",
    "    \"\"\",\n",
    "    context=[location_task, guide_task],\n",
    "    #context=context,\n",
    "    agent=planner_expert,\n",
    "        output_file='travel_plan.md',\n",
    "        )\n"
   ],
   "outputs": [],
   "execution_count": 31
  },
  {
   "cell_type": "code",
   "id": "f670026c-52d0-4f2a-a6a3-519b73717497",
   "metadata": {
    "ExecuteTime": {
     "end_time": "2025-07-09T16:08:54.050590Z",
     "start_time": "2025-07-09T16:08:54.044210Z"
    }
   },
   "source": [
    "# Task: Location\n",
    "def location_task(agent, from_city, destination_city, date_from, date_to):\n",
    "    return Task(\n",
    "        description=f\"\"\"\n",
    "        In French : This task involves a comprehensive data collection process to provide the traveler with essential information about their destination. It includes researching and compiling details on various accommodations, ranging from budget-friendly hostels to luxury hotels, as well as estimating the cost of living in the area. The task also covers transportation options, visa requirements, and any travel advisories that may be relevant.\n",
    "        consider also the weather conditions forcast on the travel dates. and all the events that may be relevant to the traveler during the trip period.\n",
    "        \n",
    "        Traveling from : {from_city}\n",
    "        Destination city : {destination_city}\n",
    "        Arrival Date : {date_from}\n",
    "        Departure Date : {date_to}\n",
    "\n",
    "        Follow this rules : \n",
    "        1. if the {destination_city} is in a French country : Respond in FRENCH.\n",
    "        \"\"\",\n",
    "        expected_output=f\"\"\"\n",
    "        if the {destination_city} is in a French country : Respond in FRENCH.\n",
    "        In markdown format : A detailed markdown report that includes a curated list of recommended places to stay, a breakdown of daily living expenses, and practical travel tips to ensure a smooth journey.\n",
    "        \"\"\",\n",
    "        agent=agent,\n",
    "        output_file='city_report.md',\n",
    "    )\n",
    "\n",
    "# Task: Location\n",
    "def guide_task(agent, destination_city, interests, date_from, date_to):    \n",
    "    return Task(\n",
    "        description=f\"\"\"\n",
    "        if the {destination_city} is in a French country : Respond in FRENCH.\n",
    "        Tailored to the traveler's personal {interests}, this task focuses on creating an engaging and informative guide to the city's attractions. It involves identifying cultural landmarks, historical spots, entertainment venues, dining experiences, and outdoor activities that align with the user's preferences such {interests}. The guide also highlights seasonal events and festivals that might be of interest during the traveler's visit.\n",
    "        Destination city : {destination_city}\n",
    "        interests : {interests}\n",
    "        Arrival Date : {date_from}\n",
    "        Departure Date : {date_to}\n",
    "\n",
    "        Follow this rules : \n",
    "        1. if the {destination_city} is in a French country : Respond in FRENCH.\n",
    "        \"\"\",\n",
    "        expected_output=f\"\"\"\n",
    "        An interactive markdown report that presents a personalized itinerary of activities and attractions, complete with descriptions, locations, and any necessary reservations or tickets.\n",
    "        \"\"\",\n",
    "\n",
    "        agent=agent,\n",
    "        output_file='guide_report.md',\n",
    "    )\n",
    "\n",
    "\n",
    "# Task: Planner\n",
    "def planner_task(context, agent, destination_city, interests, date_from, date_to):\n",
    "    return Task(\n",
    "        description=f\"\"\"\n",
    "        This task synthesizes all collected information into a detaileds introduction to the city (description of city and presentation, in 3 pragraphes) cohesive and practical travel plan. and takes into account the traveler's schedule, preferences, and budget to draft a day-by-day itinerary. The planner also provides insights into the city's layout and transportation system to facilitate easy navigation.\n",
    "        Destination city : {destination_city}\n",
    "        interests : {interests}\n",
    "        Arrival Date : {date_from}\n",
    "        Departure Date : {date_to}\n",
    "\n",
    "        Follow this rules : \n",
    "        1. if the {destination_city} is in a French country : Respond in FRENCH.\n",
    "        \"\"\",\n",
    "        expected_output=\"\"\"\n",
    "        if the {destination_city} is in a French country : Respond in FRENCH.\n",
    "        A rich markdown document with emojis on each title and subtitle, that :\n",
    "        In markdown format : \n",
    "        # Welcome to {destination_city} :\n",
    "        A 4 paragraphes markdown formated including :\n",
    "        - a curated articles of presentation of the city, \n",
    "        - a breakdown of daily living expenses, and spots to visit.\n",
    "        # Here's your Travel Plan to {destination_city} :\n",
    "        Outlines a daily detailed travel plan list with time allocations and details for each activity, along with an overview of the city's highlights based on the guide's recommendations\n",
    "        \"\"\",\n",
    "        #context=[location_task, guide_task],\n",
    "        context=context,\n",
    "        agent=agent,\n",
    "        output_file='travel_plan.md',\n",
    "        )\n"
   ],
   "outputs": [],
   "execution_count": 32
  },
  {
   "cell_type": "code",
   "id": "fbb30444-a377-4130-9895-f7ab88d65220",
   "metadata": {
    "ExecuteTime": {
     "end_time": "2025-07-09T16:08:54.061599Z",
     "start_time": "2025-07-09T16:08:54.056643Z"
    }
   },
   "source": [
    "\n",
    "location_task = location_task(\n",
    "  location_expert,\n",
    "  from_city,\n",
    "  destination_city,\n",
    "  date_from,\n",
    "  date_to\n",
    ")\n",
    "\n",
    "guide_task = guide_task(\n",
    "  guide_expert,\n",
    "  destination_city,\n",
    "  interests,\n",
    "  date_from,\n",
    "  date_to\n",
    ")\n",
    "\n",
    "planner_task = planner_task(\n",
    "  [location_task, guide_task],\n",
    "  planner_expert,\n",
    "  destination_city,\n",
    "  interests,\n",
    "  date_from,\n",
    "  date_to,\n",
    ")\n",
    "\n"
   ],
   "outputs": [],
   "execution_count": 33
  },
  {
   "cell_type": "code",
   "id": "17875371-e993-4b16-a07b-890d775e7294",
   "metadata": {
    "ExecuteTime": {
     "end_time": "2025-07-09T16:17:07.780480Z",
     "start_time": "2025-07-09T16:16:44.631563Z"
    }
   },
   "source": [
    "from crewai import Crew, Process\n",
    "crew = Crew(\n",
    "agents=[location_expert, guide_expert, planner_expert],\n",
    "tasks=[location_task, guide_task, planner_task],\n",
    "process=Process.sequential,\n",
    "full_output=True,\n",
    "share_crew=False,\n",
    "verbose=True\n",
    ")\n",
    "\n",
    "result = crew.kickoff()"
   ],
   "outputs": [
    {
     "data": {
      "text/plain": [
       "\u001B[36m╭─\u001B[0m\u001B[36m───────────────────────────────────────────\u001B[0m\u001B[36m Crew Execution Started \u001B[0m\u001B[36m────────────────────────────────────────────\u001B[0m\u001B[36m─╮\u001B[0m\n",
       "\u001B[36m│\u001B[0m                                                                                                                 \u001B[36m│\u001B[0m\n",
       "\u001B[36m│\u001B[0m  \u001B[1;36mCrew Execution Started\u001B[0m                                                                                         \u001B[36m│\u001B[0m\n",
       "\u001B[36m│\u001B[0m  \u001B[37mName: \u001B[0m\u001B[36mcrew\u001B[0m                                                                                                     \u001B[36m│\u001B[0m\n",
       "\u001B[36m│\u001B[0m  \u001B[37mID: \u001B[0m\u001B[36m56703dec-3d8d-4aea-810f-8dfbf041c1d5\u001B[0m                                                                       \u001B[36m│\u001B[0m\n",
       "\u001B[36m│\u001B[0m  \u001B[37mTool Args: \u001B[0m                                                                                                    \u001B[36m│\u001B[0m\n",
       "\u001B[36m│\u001B[0m                                                                                                                 \u001B[36m│\u001B[0m\n",
       "\u001B[36m│\u001B[0m                                                                                                                 \u001B[36m│\u001B[0m\n",
       "\u001B[36m╰─────────────────────────────────────────────────────────────────────────────────────────────────────────────────╯\u001B[0m\n"
      ],
      "text/html": [
       "<pre style=\"white-space:pre;overflow-x:auto;line-height:normal;font-family:Menlo,'DejaVu Sans Mono',consolas,'Courier New',monospace\"><span style=\"color: #008080; text-decoration-color: #008080\">╭──────────────────────────────────────────── Crew Execution Started ─────────────────────────────────────────────╮</span>\n",
       "<span style=\"color: #008080; text-decoration-color: #008080\">│</span>                                                                                                                 <span style=\"color: #008080; text-decoration-color: #008080\">│</span>\n",
       "<span style=\"color: #008080; text-decoration-color: #008080\">│</span>  <span style=\"color: #008080; text-decoration-color: #008080; font-weight: bold\">Crew Execution Started</span>                                                                                         <span style=\"color: #008080; text-decoration-color: #008080\">│</span>\n",
       "<span style=\"color: #008080; text-decoration-color: #008080\">│</span>  <span style=\"color: #c0c0c0; text-decoration-color: #c0c0c0\">Name: </span><span style=\"color: #008080; text-decoration-color: #008080\">crew</span>                                                                                                     <span style=\"color: #008080; text-decoration-color: #008080\">│</span>\n",
       "<span style=\"color: #008080; text-decoration-color: #008080\">│</span>  <span style=\"color: #c0c0c0; text-decoration-color: #c0c0c0\">ID: </span><span style=\"color: #008080; text-decoration-color: #008080\">56703dec-3d8d-4aea-810f-8dfbf041c1d5</span>                                                                       <span style=\"color: #008080; text-decoration-color: #008080\">│</span>\n",
       "<span style=\"color: #008080; text-decoration-color: #008080\">│</span>  <span style=\"color: #c0c0c0; text-decoration-color: #c0c0c0\">Tool Args: </span>                                                                                                    <span style=\"color: #008080; text-decoration-color: #008080\">│</span>\n",
       "<span style=\"color: #008080; text-decoration-color: #008080\">│</span>                                                                                                                 <span style=\"color: #008080; text-decoration-color: #008080\">│</span>\n",
       "<span style=\"color: #008080; text-decoration-color: #008080\">│</span>                                                                                                                 <span style=\"color: #008080; text-decoration-color: #008080\">│</span>\n",
       "<span style=\"color: #008080; text-decoration-color: #008080\">╰─────────────────────────────────────────────────────────────────────────────────────────────────────────────────╯</span>\n",
       "</pre>\n"
      ]
     },
     "metadata": {},
     "output_type": "display_data"
    },
    {
     "data": {
      "text/plain": [
       "\n"
      ],
      "text/html": [
       "<pre style=\"white-space:pre;overflow-x:auto;line-height:normal;font-family:Menlo,'DejaVu Sans Mono',consolas,'Courier New',monospace\">\n",
       "</pre>\n"
      ]
     },
     "metadata": {},
     "output_type": "display_data"
    },
    {
     "data": {
      "text/plain": [],
      "text/html": [
       "<pre style=\"white-space:pre;overflow-x:auto;line-height:normal;font-family:Menlo,'DejaVu Sans Mono',consolas,'Courier New',monospace\"></pre>\n"
      ]
     },
     "metadata": {},
     "output_type": "display_data"
    },
    {
     "data": {
      "text/plain": [
       "\u001B[35m╭─\u001B[0m\u001B[35m──────────────────────────────────────────────\u001B[0m\u001B[35m 🤖 Agent Started \u001B[0m\u001B[35m───────────────────────────────────────────────\u001B[0m\u001B[35m─╮\u001B[0m\n",
       "\u001B[35m│\u001B[0m                                                                                                                 \u001B[35m│\u001B[0m\n",
       "\u001B[35m│\u001B[0m  \u001B[37mAgent: \u001B[0m\u001B[1;92mTravel Trip Expert\u001B[0m                                                                                      \u001B[35m│\u001B[0m\n",
       "\u001B[35m│\u001B[0m                                                                                                                 \u001B[35m│\u001B[0m\n",
       "\u001B[35m│\u001B[0m  \u001B[37mTask: \u001B[0m                                                                                                         \u001B[35m│\u001B[0m\n",
       "\u001B[35m│\u001B[0m  \u001B[92m        In French : This task involves a comprehensive data collection process to provide the traveler with \u001B[0m   \u001B[35m│\u001B[0m\n",
       "\u001B[35m│\u001B[0m  \u001B[92messential information about their destination. It includes researching and compiling details on various \u001B[0m       \u001B[35m│\u001B[0m\n",
       "\u001B[35m│\u001B[0m  \u001B[92maccommodations, ranging from budget-friendly hostels to luxury hotels, as well as estimating the cost of \u001B[0m      \u001B[35m│\u001B[0m\n",
       "\u001B[35m│\u001B[0m  \u001B[92mliving in the area. The task also covers transportation options, visa requirements, and any travel advisories\u001B[0m  \u001B[35m│\u001B[0m\n",
       "\u001B[35m│\u001B[0m  \u001B[92mthat may be relevant.\u001B[0m                                                                                          \u001B[35m│\u001B[0m\n",
       "\u001B[35m│\u001B[0m  \u001B[92m        consider also the weather conditions forcast on the travel dates. and all the events that may be \u001B[0m      \u001B[35m│\u001B[0m\n",
       "\u001B[35m│\u001B[0m  \u001B[92mrelevant to the traveler during the trip period.\u001B[0m                                                               \u001B[35m│\u001B[0m\n",
       "\u001B[35m│\u001B[0m                                                                                                                 \u001B[35m│\u001B[0m\n",
       "\u001B[35m│\u001B[0m  \u001B[92m        Traveling from : India\u001B[0m                                                                                 \u001B[35m│\u001B[0m\n",
       "\u001B[35m│\u001B[0m  \u001B[92m        Destination city : Rome\u001B[0m                                                                                \u001B[35m│\u001B[0m\n",
       "\u001B[35m│\u001B[0m  \u001B[92m        Arrival Date : 1st March 2025\u001B[0m                                                                          \u001B[35m│\u001B[0m\n",
       "\u001B[35m│\u001B[0m  \u001B[92m        Departure Date : 7th March 2025\u001B[0m                                                                        \u001B[35m│\u001B[0m\n",
       "\u001B[35m│\u001B[0m                                                                                                                 \u001B[35m│\u001B[0m\n",
       "\u001B[35m│\u001B[0m  \u001B[92m        Follow this rules : \u001B[0m                                                                                   \u001B[35m│\u001B[0m\n",
       "\u001B[35m│\u001B[0m  \u001B[92m        1. if the Rome is in a French country : Respond in FRENCH.\u001B[0m                                             \u001B[35m│\u001B[0m\n",
       "\u001B[35m│\u001B[0m  \u001B[92m        \u001B[0m                                                                                                       \u001B[35m│\u001B[0m\n",
       "\u001B[35m│\u001B[0m                                                                                                                 \u001B[35m│\u001B[0m\n",
       "\u001B[35m╰─────────────────────────────────────────────────────────────────────────────────────────────────────────────────╯\u001B[0m\n"
      ],
      "text/html": [
       "<pre style=\"white-space:pre;overflow-x:auto;line-height:normal;font-family:Menlo,'DejaVu Sans Mono',consolas,'Courier New',monospace\"><span style=\"color: #800080; text-decoration-color: #800080\">╭─────────────────────────────────────────────── 🤖 Agent Started ────────────────────────────────────────────────╮</span>\n",
       "<span style=\"color: #800080; text-decoration-color: #800080\">│</span>                                                                                                                 <span style=\"color: #800080; text-decoration-color: #800080\">│</span>\n",
       "<span style=\"color: #800080; text-decoration-color: #800080\">│</span>  <span style=\"color: #c0c0c0; text-decoration-color: #c0c0c0\">Agent: </span><span style=\"color: #00ff00; text-decoration-color: #00ff00; font-weight: bold\">Travel Trip Expert</span>                                                                                      <span style=\"color: #800080; text-decoration-color: #800080\">│</span>\n",
       "<span style=\"color: #800080; text-decoration-color: #800080\">│</span>                                                                                                                 <span style=\"color: #800080; text-decoration-color: #800080\">│</span>\n",
       "<span style=\"color: #800080; text-decoration-color: #800080\">│</span>  <span style=\"color: #c0c0c0; text-decoration-color: #c0c0c0\">Task: </span>                                                                                                         <span style=\"color: #800080; text-decoration-color: #800080\">│</span>\n",
       "<span style=\"color: #800080; text-decoration-color: #800080\">│</span>  <span style=\"color: #00ff00; text-decoration-color: #00ff00\">        In French : This task involves a comprehensive data collection process to provide the traveler with </span>   <span style=\"color: #800080; text-decoration-color: #800080\">│</span>\n",
       "<span style=\"color: #800080; text-decoration-color: #800080\">│</span>  <span style=\"color: #00ff00; text-decoration-color: #00ff00\">essential information about their destination. It includes researching and compiling details on various </span>       <span style=\"color: #800080; text-decoration-color: #800080\">│</span>\n",
       "<span style=\"color: #800080; text-decoration-color: #800080\">│</span>  <span style=\"color: #00ff00; text-decoration-color: #00ff00\">accommodations, ranging from budget-friendly hostels to luxury hotels, as well as estimating the cost of </span>      <span style=\"color: #800080; text-decoration-color: #800080\">│</span>\n",
       "<span style=\"color: #800080; text-decoration-color: #800080\">│</span>  <span style=\"color: #00ff00; text-decoration-color: #00ff00\">living in the area. The task also covers transportation options, visa requirements, and any travel advisories</span>  <span style=\"color: #800080; text-decoration-color: #800080\">│</span>\n",
       "<span style=\"color: #800080; text-decoration-color: #800080\">│</span>  <span style=\"color: #00ff00; text-decoration-color: #00ff00\">that may be relevant.</span>                                                                                          <span style=\"color: #800080; text-decoration-color: #800080\">│</span>\n",
       "<span style=\"color: #800080; text-decoration-color: #800080\">│</span>  <span style=\"color: #00ff00; text-decoration-color: #00ff00\">        consider also the weather conditions forcast on the travel dates. and all the events that may be </span>      <span style=\"color: #800080; text-decoration-color: #800080\">│</span>\n",
       "<span style=\"color: #800080; text-decoration-color: #800080\">│</span>  <span style=\"color: #00ff00; text-decoration-color: #00ff00\">relevant to the traveler during the trip period.</span>                                                               <span style=\"color: #800080; text-decoration-color: #800080\">│</span>\n",
       "<span style=\"color: #800080; text-decoration-color: #800080\">│</span>                                                                                                                 <span style=\"color: #800080; text-decoration-color: #800080\">│</span>\n",
       "<span style=\"color: #800080; text-decoration-color: #800080\">│</span>  <span style=\"color: #00ff00; text-decoration-color: #00ff00\">        Traveling from : India</span>                                                                                 <span style=\"color: #800080; text-decoration-color: #800080\">│</span>\n",
       "<span style=\"color: #800080; text-decoration-color: #800080\">│</span>  <span style=\"color: #00ff00; text-decoration-color: #00ff00\">        Destination city : Rome</span>                                                                                <span style=\"color: #800080; text-decoration-color: #800080\">│</span>\n",
       "<span style=\"color: #800080; text-decoration-color: #800080\">│</span>  <span style=\"color: #00ff00; text-decoration-color: #00ff00\">        Arrival Date : 1st March 2025</span>                                                                          <span style=\"color: #800080; text-decoration-color: #800080\">│</span>\n",
       "<span style=\"color: #800080; text-decoration-color: #800080\">│</span>  <span style=\"color: #00ff00; text-decoration-color: #00ff00\">        Departure Date : 7th March 2025</span>                                                                        <span style=\"color: #800080; text-decoration-color: #800080\">│</span>\n",
       "<span style=\"color: #800080; text-decoration-color: #800080\">│</span>                                                                                                                 <span style=\"color: #800080; text-decoration-color: #800080\">│</span>\n",
       "<span style=\"color: #800080; text-decoration-color: #800080\">│</span>  <span style=\"color: #00ff00; text-decoration-color: #00ff00\">        Follow this rules : </span>                                                                                   <span style=\"color: #800080; text-decoration-color: #800080\">│</span>\n",
       "<span style=\"color: #800080; text-decoration-color: #800080\">│</span>  <span style=\"color: #00ff00; text-decoration-color: #00ff00\">        1. if the Rome is in a French country : Respond in FRENCH.</span>                                             <span style=\"color: #800080; text-decoration-color: #800080\">│</span>\n",
       "<span style=\"color: #800080; text-decoration-color: #800080\">│</span>  <span style=\"color: #00ff00; text-decoration-color: #00ff00\">        </span>                                                                                                       <span style=\"color: #800080; text-decoration-color: #800080\">│</span>\n",
       "<span style=\"color: #800080; text-decoration-color: #800080\">│</span>                                                                                                                 <span style=\"color: #800080; text-decoration-color: #800080\">│</span>\n",
       "<span style=\"color: #800080; text-decoration-color: #800080\">╰─────────────────────────────────────────────────────────────────────────────────────────────────────────────────╯</span>\n",
       "</pre>\n"
      ]
     },
     "metadata": {},
     "output_type": "display_data"
    },
    {
     "data": {
      "text/plain": [
       "\n"
      ],
      "text/html": [
       "<pre style=\"white-space:pre;overflow-x:auto;line-height:normal;font-family:Menlo,'DejaVu Sans Mono',consolas,'Courier New',monospace\">\n",
       "</pre>\n"
      ]
     },
     "metadata": {},
     "output_type": "display_data"
    },
    {
     "data": {
      "text/plain": [
       "Output()"
      ],
      "application/vnd.jupyter.widget-view+json": {
       "version_major": 2,
       "version_minor": 0,
       "model_id": "4d31d92bf1944b988721d9e934469d2b"
      }
     },
     "metadata": {},
     "output_type": "display_data"
    },
    {
     "data": {
      "text/plain": [],
      "text/html": [
       "<pre style=\"white-space:pre;overflow-x:auto;line-height:normal;font-family:Menlo,'DejaVu Sans Mono',consolas,'Courier New',monospace\"></pre>\n"
      ]
     },
     "metadata": {},
     "output_type": "display_data"
    },
    {
     "data": {
      "text/plain": [
       "\u001B[32m╭─\u001B[0m\u001B[32m────────────────────────────────────────────\u001B[0m\u001B[32m ✅ Agent Final Answer \u001B[0m\u001B[32m────────────────────────────────────────────\u001B[0m\u001B[32m─╮\u001B[0m\n",
       "\u001B[32m│\u001B[0m                                                                                                                 \u001B[32m│\u001B[0m\n",
       "\u001B[32m│\u001B[0m  \u001B[37mAgent: \u001B[0m\u001B[1;92mTravel Trip Expert\u001B[0m                                                                                      \u001B[32m│\u001B[0m\n",
       "\u001B[32m│\u001B[0m                                                                                                                 \u001B[32m│\u001B[0m\n",
       "\u001B[32m│\u001B[0m  \u001B[37mFinal Answer:\u001B[0m                                                                                                  \u001B[32m│\u001B[0m\n",
       "\u001B[32m│\u001B[0m  \u001B[92mAction: { \"query\": \"Transportation options from India to Rome\" }\u001B[0m                                               \u001B[32m│\u001B[0m\n",
       "\u001B[32m│\u001B[0m                                                                                                                 \u001B[32m│\u001B[0m\n",
       "\u001B[32m╰─────────────────────────────────────────────────────────────────────────────────────────────────────────────────╯\u001B[0m\n"
      ],
      "text/html": [
       "<pre style=\"white-space:pre;overflow-x:auto;line-height:normal;font-family:Menlo,'DejaVu Sans Mono',consolas,'Courier New',monospace\"><span style=\"color: #008000; text-decoration-color: #008000\">╭───────────────────────────────────────────── ✅ Agent Final Answer ─────────────────────────────────────────────╮</span>\n",
       "<span style=\"color: #008000; text-decoration-color: #008000\">│</span>                                                                                                                 <span style=\"color: #008000; text-decoration-color: #008000\">│</span>\n",
       "<span style=\"color: #008000; text-decoration-color: #008000\">│</span>  <span style=\"color: #c0c0c0; text-decoration-color: #c0c0c0\">Agent: </span><span style=\"color: #00ff00; text-decoration-color: #00ff00; font-weight: bold\">Travel Trip Expert</span>                                                                                      <span style=\"color: #008000; text-decoration-color: #008000\">│</span>\n",
       "<span style=\"color: #008000; text-decoration-color: #008000\">│</span>                                                                                                                 <span style=\"color: #008000; text-decoration-color: #008000\">│</span>\n",
       "<span style=\"color: #008000; text-decoration-color: #008000\">│</span>  <span style=\"color: #c0c0c0; text-decoration-color: #c0c0c0\">Final Answer:</span>                                                                                                  <span style=\"color: #008000; text-decoration-color: #008000\">│</span>\n",
       "<span style=\"color: #008000; text-decoration-color: #008000\">│</span>  <span style=\"color: #00ff00; text-decoration-color: #00ff00\">Action: { \"query\": \"Transportation options from India to Rome\" }</span>                                               <span style=\"color: #008000; text-decoration-color: #008000\">│</span>\n",
       "<span style=\"color: #008000; text-decoration-color: #008000\">│</span>                                                                                                                 <span style=\"color: #008000; text-decoration-color: #008000\">│</span>\n",
       "<span style=\"color: #008000; text-decoration-color: #008000\">╰─────────────────────────────────────────────────────────────────────────────────────────────────────────────────╯</span>\n",
       "</pre>\n"
      ]
     },
     "metadata": {},
     "output_type": "display_data"
    },
    {
     "data": {
      "text/plain": [
       "\n"
      ],
      "text/html": [
       "<pre style=\"white-space:pre;overflow-x:auto;line-height:normal;font-family:Menlo,'DejaVu Sans Mono',consolas,'Courier New',monospace\">\n",
       "</pre>\n"
      ]
     },
     "metadata": {},
     "output_type": "display_data"
    },
    {
     "data": {
      "text/plain": [],
      "text/html": [
       "<pre style=\"white-space:pre;overflow-x:auto;line-height:normal;font-family:Menlo,'DejaVu Sans Mono',consolas,'Courier New',monospace\"></pre>\n"
      ]
     },
     "metadata": {},
     "output_type": "display_data"
    },
    {
     "data": {
      "text/plain": [
       "\u001B[32m╭─\u001B[0m\u001B[32m───────────────────────────────────────────────\u001B[0m\u001B[32m Task Completion \u001B[0m\u001B[32m───────────────────────────────────────────────\u001B[0m\u001B[32m─╮\u001B[0m\n",
       "\u001B[32m│\u001B[0m                                                                                                                 \u001B[32m│\u001B[0m\n",
       "\u001B[32m│\u001B[0m  \u001B[1;32mTask Completed\u001B[0m                                                                                                 \u001B[32m│\u001B[0m\n",
       "\u001B[32m│\u001B[0m  \u001B[37mName: \u001B[0m\u001B[32m9f6cb8e6-ab02-4f1b-a2ee-c26bca69f1d7\u001B[0m                                                                     \u001B[32m│\u001B[0m\n",
       "\u001B[32m│\u001B[0m  \u001B[37mAgent: \u001B[0m\u001B[32mTravel Trip Expert\u001B[0m                                                                                      \u001B[32m│\u001B[0m\n",
       "\u001B[32m│\u001B[0m  \u001B[37mTool Args: \u001B[0m                                                                                                    \u001B[32m│\u001B[0m\n",
       "\u001B[32m│\u001B[0m                                                                                                                 \u001B[32m│\u001B[0m\n",
       "\u001B[32m│\u001B[0m                                                                                                                 \u001B[32m│\u001B[0m\n",
       "\u001B[32m╰─────────────────────────────────────────────────────────────────────────────────────────────────────────────────╯\u001B[0m\n"
      ],
      "text/html": [
       "<pre style=\"white-space:pre;overflow-x:auto;line-height:normal;font-family:Menlo,'DejaVu Sans Mono',consolas,'Courier New',monospace\"><span style=\"color: #008000; text-decoration-color: #008000\">╭──────────────────────────────────────────────── Task Completion ────────────────────────────────────────────────╮</span>\n",
       "<span style=\"color: #008000; text-decoration-color: #008000\">│</span>                                                                                                                 <span style=\"color: #008000; text-decoration-color: #008000\">│</span>\n",
       "<span style=\"color: #008000; text-decoration-color: #008000\">│</span>  <span style=\"color: #008000; text-decoration-color: #008000; font-weight: bold\">Task Completed</span>                                                                                                 <span style=\"color: #008000; text-decoration-color: #008000\">│</span>\n",
       "<span style=\"color: #008000; text-decoration-color: #008000\">│</span>  <span style=\"color: #c0c0c0; text-decoration-color: #c0c0c0\">Name: </span><span style=\"color: #008000; text-decoration-color: #008000\">9f6cb8e6-ab02-4f1b-a2ee-c26bca69f1d7</span>                                                                     <span style=\"color: #008000; text-decoration-color: #008000\">│</span>\n",
       "<span style=\"color: #008000; text-decoration-color: #008000\">│</span>  <span style=\"color: #c0c0c0; text-decoration-color: #c0c0c0\">Agent: </span><span style=\"color: #008000; text-decoration-color: #008000\">Travel Trip Expert</span>                                                                                      <span style=\"color: #008000; text-decoration-color: #008000\">│</span>\n",
       "<span style=\"color: #008000; text-decoration-color: #008000\">│</span>  <span style=\"color: #c0c0c0; text-decoration-color: #c0c0c0\">Tool Args: </span>                                                                                                    <span style=\"color: #008000; text-decoration-color: #008000\">│</span>\n",
       "<span style=\"color: #008000; text-decoration-color: #008000\">│</span>                                                                                                                 <span style=\"color: #008000; text-decoration-color: #008000\">│</span>\n",
       "<span style=\"color: #008000; text-decoration-color: #008000\">│</span>                                                                                                                 <span style=\"color: #008000; text-decoration-color: #008000\">│</span>\n",
       "<span style=\"color: #008000; text-decoration-color: #008000\">╰─────────────────────────────────────────────────────────────────────────────────────────────────────────────────╯</span>\n",
       "</pre>\n"
      ]
     },
     "metadata": {},
     "output_type": "display_data"
    },
    {
     "data": {
      "text/plain": [
       "\n"
      ],
      "text/html": [
       "<pre style=\"white-space:pre;overflow-x:auto;line-height:normal;font-family:Menlo,'DejaVu Sans Mono',consolas,'Courier New',monospace\">\n",
       "</pre>\n"
      ]
     },
     "metadata": {},
     "output_type": "display_data"
    },
    {
     "data": {
      "text/plain": [],
      "text/html": [
       "<pre style=\"white-space:pre;overflow-x:auto;line-height:normal;font-family:Menlo,'DejaVu Sans Mono',consolas,'Courier New',monospace\"></pre>\n"
      ]
     },
     "metadata": {},
     "output_type": "display_data"
    },
    {
     "data": {
      "text/plain": [
       "\u001B[35m╭─\u001B[0m\u001B[35m──────────────────────────────────────────────\u001B[0m\u001B[35m 🤖 Agent Started \u001B[0m\u001B[35m───────────────────────────────────────────────\u001B[0m\u001B[35m─╮\u001B[0m\n",
       "\u001B[35m│\u001B[0m                                                                                                                 \u001B[35m│\u001B[0m\n",
       "\u001B[35m│\u001B[0m  \u001B[37mAgent: \u001B[0m\u001B[1;92mCity Local Guide Expert\u001B[0m                                                                                 \u001B[35m│\u001B[0m\n",
       "\u001B[35m│\u001B[0m                                                                                                                 \u001B[35m│\u001B[0m\n",
       "\u001B[35m│\u001B[0m  \u001B[37mTask: \u001B[0m                                                                                                         \u001B[35m│\u001B[0m\n",
       "\u001B[35m│\u001B[0m  \u001B[92m        if the Rome is in a French country : Respond in FRENCH.\u001B[0m                                                \u001B[35m│\u001B[0m\n",
       "\u001B[35m│\u001B[0m  \u001B[92m        Tailored to the traveler's personal sight seeing and good food, this task focuses on creating an \u001B[0m      \u001B[35m│\u001B[0m\n",
       "\u001B[35m│\u001B[0m  \u001B[92mengaging and informative guide to the city's attractions. It involves identifying cultural landmarks, \u001B[0m         \u001B[35m│\u001B[0m\n",
       "\u001B[35m│\u001B[0m  \u001B[92mhistorical spots, entertainment venues, dining experiences, and outdoor activities that align with the user's\u001B[0m  \u001B[35m│\u001B[0m\n",
       "\u001B[35m│\u001B[0m  \u001B[92mpreferences such sight seeing and good food. The guide also highlights seasonal events and festivals that \u001B[0m     \u001B[35m│\u001B[0m\n",
       "\u001B[35m│\u001B[0m  \u001B[92mmight be of interest during the traveler's visit.\u001B[0m                                                              \u001B[35m│\u001B[0m\n",
       "\u001B[35m│\u001B[0m  \u001B[92m        Destination city : Rome\u001B[0m                                                                                \u001B[35m│\u001B[0m\n",
       "\u001B[35m│\u001B[0m  \u001B[92m        interests : sight seeing and good food\u001B[0m                                                                 \u001B[35m│\u001B[0m\n",
       "\u001B[35m│\u001B[0m  \u001B[92m        Arrival Date : 1st March 2025\u001B[0m                                                                          \u001B[35m│\u001B[0m\n",
       "\u001B[35m│\u001B[0m  \u001B[92m        Departure Date : 7th March 2025\u001B[0m                                                                        \u001B[35m│\u001B[0m\n",
       "\u001B[35m│\u001B[0m                                                                                                                 \u001B[35m│\u001B[0m\n",
       "\u001B[35m│\u001B[0m  \u001B[92m        Follow this rules : \u001B[0m                                                                                   \u001B[35m│\u001B[0m\n",
       "\u001B[35m│\u001B[0m  \u001B[92m        1. if the Rome is in a French country : Respond in FRENCH.\u001B[0m                                             \u001B[35m│\u001B[0m\n",
       "\u001B[35m│\u001B[0m  \u001B[92m        \u001B[0m                                                                                                       \u001B[35m│\u001B[0m\n",
       "\u001B[35m│\u001B[0m                                                                                                                 \u001B[35m│\u001B[0m\n",
       "\u001B[35m╰─────────────────────────────────────────────────────────────────────────────────────────────────────────────────╯\u001B[0m\n"
      ],
      "text/html": [
       "<pre style=\"white-space:pre;overflow-x:auto;line-height:normal;font-family:Menlo,'DejaVu Sans Mono',consolas,'Courier New',monospace\"><span style=\"color: #800080; text-decoration-color: #800080\">╭─────────────────────────────────────────────── 🤖 Agent Started ────────────────────────────────────────────────╮</span>\n",
       "<span style=\"color: #800080; text-decoration-color: #800080\">│</span>                                                                                                                 <span style=\"color: #800080; text-decoration-color: #800080\">│</span>\n",
       "<span style=\"color: #800080; text-decoration-color: #800080\">│</span>  <span style=\"color: #c0c0c0; text-decoration-color: #c0c0c0\">Agent: </span><span style=\"color: #00ff00; text-decoration-color: #00ff00; font-weight: bold\">City Local Guide Expert</span>                                                                                 <span style=\"color: #800080; text-decoration-color: #800080\">│</span>\n",
       "<span style=\"color: #800080; text-decoration-color: #800080\">│</span>                                                                                                                 <span style=\"color: #800080; text-decoration-color: #800080\">│</span>\n",
       "<span style=\"color: #800080; text-decoration-color: #800080\">│</span>  <span style=\"color: #c0c0c0; text-decoration-color: #c0c0c0\">Task: </span>                                                                                                         <span style=\"color: #800080; text-decoration-color: #800080\">│</span>\n",
       "<span style=\"color: #800080; text-decoration-color: #800080\">│</span>  <span style=\"color: #00ff00; text-decoration-color: #00ff00\">        if the Rome is in a French country : Respond in FRENCH.</span>                                                <span style=\"color: #800080; text-decoration-color: #800080\">│</span>\n",
       "<span style=\"color: #800080; text-decoration-color: #800080\">│</span>  <span style=\"color: #00ff00; text-decoration-color: #00ff00\">        Tailored to the traveler's personal sight seeing and good food, this task focuses on creating an </span>      <span style=\"color: #800080; text-decoration-color: #800080\">│</span>\n",
       "<span style=\"color: #800080; text-decoration-color: #800080\">│</span>  <span style=\"color: #00ff00; text-decoration-color: #00ff00\">engaging and informative guide to the city's attractions. It involves identifying cultural landmarks, </span>         <span style=\"color: #800080; text-decoration-color: #800080\">│</span>\n",
       "<span style=\"color: #800080; text-decoration-color: #800080\">│</span>  <span style=\"color: #00ff00; text-decoration-color: #00ff00\">historical spots, entertainment venues, dining experiences, and outdoor activities that align with the user's</span>  <span style=\"color: #800080; text-decoration-color: #800080\">│</span>\n",
       "<span style=\"color: #800080; text-decoration-color: #800080\">│</span>  <span style=\"color: #00ff00; text-decoration-color: #00ff00\">preferences such sight seeing and good food. The guide also highlights seasonal events and festivals that </span>     <span style=\"color: #800080; text-decoration-color: #800080\">│</span>\n",
       "<span style=\"color: #800080; text-decoration-color: #800080\">│</span>  <span style=\"color: #00ff00; text-decoration-color: #00ff00\">might be of interest during the traveler's visit.</span>                                                              <span style=\"color: #800080; text-decoration-color: #800080\">│</span>\n",
       "<span style=\"color: #800080; text-decoration-color: #800080\">│</span>  <span style=\"color: #00ff00; text-decoration-color: #00ff00\">        Destination city : Rome</span>                                                                                <span style=\"color: #800080; text-decoration-color: #800080\">│</span>\n",
       "<span style=\"color: #800080; text-decoration-color: #800080\">│</span>  <span style=\"color: #00ff00; text-decoration-color: #00ff00\">        interests : sight seeing and good food</span>                                                                 <span style=\"color: #800080; text-decoration-color: #800080\">│</span>\n",
       "<span style=\"color: #800080; text-decoration-color: #800080\">│</span>  <span style=\"color: #00ff00; text-decoration-color: #00ff00\">        Arrival Date : 1st March 2025</span>                                                                          <span style=\"color: #800080; text-decoration-color: #800080\">│</span>\n",
       "<span style=\"color: #800080; text-decoration-color: #800080\">│</span>  <span style=\"color: #00ff00; text-decoration-color: #00ff00\">        Departure Date : 7th March 2025</span>                                                                        <span style=\"color: #800080; text-decoration-color: #800080\">│</span>\n",
       "<span style=\"color: #800080; text-decoration-color: #800080\">│</span>                                                                                                                 <span style=\"color: #800080; text-decoration-color: #800080\">│</span>\n",
       "<span style=\"color: #800080; text-decoration-color: #800080\">│</span>  <span style=\"color: #00ff00; text-decoration-color: #00ff00\">        Follow this rules : </span>                                                                                   <span style=\"color: #800080; text-decoration-color: #800080\">│</span>\n",
       "<span style=\"color: #800080; text-decoration-color: #800080\">│</span>  <span style=\"color: #00ff00; text-decoration-color: #00ff00\">        1. if the Rome is in a French country : Respond in FRENCH.</span>                                             <span style=\"color: #800080; text-decoration-color: #800080\">│</span>\n",
       "<span style=\"color: #800080; text-decoration-color: #800080\">│</span>  <span style=\"color: #00ff00; text-decoration-color: #00ff00\">        </span>                                                                                                       <span style=\"color: #800080; text-decoration-color: #800080\">│</span>\n",
       "<span style=\"color: #800080; text-decoration-color: #800080\">│</span>                                                                                                                 <span style=\"color: #800080; text-decoration-color: #800080\">│</span>\n",
       "<span style=\"color: #800080; text-decoration-color: #800080\">╰─────────────────────────────────────────────────────────────────────────────────────────────────────────────────╯</span>\n",
       "</pre>\n"
      ]
     },
     "metadata": {},
     "output_type": "display_data"
    },
    {
     "data": {
      "text/plain": [
       "\n"
      ],
      "text/html": [
       "<pre style=\"white-space:pre;overflow-x:auto;line-height:normal;font-family:Menlo,'DejaVu Sans Mono',consolas,'Courier New',monospace\">\n",
       "</pre>\n"
      ]
     },
     "metadata": {},
     "output_type": "display_data"
    },
    {
     "data": {
      "text/plain": [
       "Output()"
      ],
      "application/vnd.jupyter.widget-view+json": {
       "version_major": 2,
       "version_minor": 0,
       "model_id": "76b289e9b15846ceb969568a31e328bf"
      }
     },
     "metadata": {},
     "output_type": "display_data"
    },
    {
     "data": {
      "text/plain": [],
      "text/html": [
       "<pre style=\"white-space:pre;overflow-x:auto;line-height:normal;font-family:Menlo,'DejaVu Sans Mono',consolas,'Courier New',monospace\"></pre>\n"
      ]
     },
     "metadata": {},
     "output_type": "display_data"
    },
    {
     "data": {
      "text/plain": [
       "\u001B[32m╭─\u001B[0m\u001B[32m────────────────────────────────────────────\u001B[0m\u001B[32m ✅ Agent Final Answer \u001B[0m\u001B[32m────────────────────────────────────────────\u001B[0m\u001B[32m─╮\u001B[0m\n",
       "\u001B[32m│\u001B[0m                                                                                                                 \u001B[32m│\u001B[0m\n",
       "\u001B[32m│\u001B[0m  \u001B[37mAgent: \u001B[0m\u001B[1;92mCity Local Guide Expert\u001B[0m                                                                                 \u001B[32m│\u001B[0m\n",
       "\u001B[32m│\u001B[0m                                                                                                                 \u001B[32m│\u001B[0m\n",
       "\u001B[32m│\u001B[0m  \u001B[37mFinal Answer:\u001B[0m                                                                                                  \u001B[32m│\u001B[0m\n",
       "\u001B[32m│\u001B[0m  \u001B[92mObservation: Transport information not required for this task.\u001B[0m                                                 \u001B[32m│\u001B[0m\n",
       "\u001B[32m│\u001B[0m                                                                                                                 \u001B[32m│\u001B[0m\n",
       "\u001B[32m│\u001B[0m  \u001B[92mAction: {\"query\": \"Rome Italy tourist attractions and restaurants 1st-7th March 2025\"}\u001B[0m                         \u001B[32m│\u001B[0m\n",
       "\u001B[32m│\u001B[0m                                                                                                                 \u001B[32m│\u001B[0m\n",
       "\u001B[32m│\u001B[0m  \u001B[92mThought:\u001B[0m                                                                                                       \u001B[32m│\u001B[0m\n",
       "\u001B[32m│\u001B[0m  \u001B[92mI need to find out the top tourist attractions and good food options in Rome, Italy during the traveler's \u001B[0m     \u001B[32m│\u001B[0m\n",
       "\u001B[32m│\u001B[0m  \u001B[92mvisit from 1st March 2025 to 7th March 2025.\u001B[0m                                                                   \u001B[32m│\u001B[0m\n",
       "\u001B[32m│\u001B[0m                                                                                                                 \u001B[32m│\u001B[0m\n",
       "\u001B[32m│\u001B[0m  \u001B[92mAction: {\"query\": \"Best restaurants in Rome for Italian food near Colosseum\"}\u001B[0m                                  \u001B[32m│\u001B[0m\n",
       "\u001B[32m│\u001B[0m                                                                                                                 \u001B[32m│\u001B[0m\n",
       "\u001B[32m│\u001B[0m                                                                                                                 \u001B[32m│\u001B[0m\n",
       "\u001B[32m╰─────────────────────────────────────────────────────────────────────────────────────────────────────────────────╯\u001B[0m\n"
      ],
      "text/html": [
       "<pre style=\"white-space:pre;overflow-x:auto;line-height:normal;font-family:Menlo,'DejaVu Sans Mono',consolas,'Courier New',monospace\"><span style=\"color: #008000; text-decoration-color: #008000\">╭───────────────────────────────────────────── ✅ Agent Final Answer ─────────────────────────────────────────────╮</span>\n",
       "<span style=\"color: #008000; text-decoration-color: #008000\">│</span>                                                                                                                 <span style=\"color: #008000; text-decoration-color: #008000\">│</span>\n",
       "<span style=\"color: #008000; text-decoration-color: #008000\">│</span>  <span style=\"color: #c0c0c0; text-decoration-color: #c0c0c0\">Agent: </span><span style=\"color: #00ff00; text-decoration-color: #00ff00; font-weight: bold\">City Local Guide Expert</span>                                                                                 <span style=\"color: #008000; text-decoration-color: #008000\">│</span>\n",
       "<span style=\"color: #008000; text-decoration-color: #008000\">│</span>                                                                                                                 <span style=\"color: #008000; text-decoration-color: #008000\">│</span>\n",
       "<span style=\"color: #008000; text-decoration-color: #008000\">│</span>  <span style=\"color: #c0c0c0; text-decoration-color: #c0c0c0\">Final Answer:</span>                                                                                                  <span style=\"color: #008000; text-decoration-color: #008000\">│</span>\n",
       "<span style=\"color: #008000; text-decoration-color: #008000\">│</span>  <span style=\"color: #00ff00; text-decoration-color: #00ff00\">Observation: Transport information not required for this task.</span>                                                 <span style=\"color: #008000; text-decoration-color: #008000\">│</span>\n",
       "<span style=\"color: #008000; text-decoration-color: #008000\">│</span>                                                                                                                 <span style=\"color: #008000; text-decoration-color: #008000\">│</span>\n",
       "<span style=\"color: #008000; text-decoration-color: #008000\">│</span>  <span style=\"color: #00ff00; text-decoration-color: #00ff00\">Action: {\"query\": \"Rome Italy tourist attractions and restaurants 1st-7th March 2025\"}</span>                         <span style=\"color: #008000; text-decoration-color: #008000\">│</span>\n",
       "<span style=\"color: #008000; text-decoration-color: #008000\">│</span>                                                                                                                 <span style=\"color: #008000; text-decoration-color: #008000\">│</span>\n",
       "<span style=\"color: #008000; text-decoration-color: #008000\">│</span>  <span style=\"color: #00ff00; text-decoration-color: #00ff00\">Thought:</span>                                                                                                       <span style=\"color: #008000; text-decoration-color: #008000\">│</span>\n",
       "<span style=\"color: #008000; text-decoration-color: #008000\">│</span>  <span style=\"color: #00ff00; text-decoration-color: #00ff00\">I need to find out the top tourist attractions and good food options in Rome, Italy during the traveler's </span>     <span style=\"color: #008000; text-decoration-color: #008000\">│</span>\n",
       "<span style=\"color: #008000; text-decoration-color: #008000\">│</span>  <span style=\"color: #00ff00; text-decoration-color: #00ff00\">visit from 1st March 2025 to 7th March 2025.</span>                                                                   <span style=\"color: #008000; text-decoration-color: #008000\">│</span>\n",
       "<span style=\"color: #008000; text-decoration-color: #008000\">│</span>                                                                                                                 <span style=\"color: #008000; text-decoration-color: #008000\">│</span>\n",
       "<span style=\"color: #008000; text-decoration-color: #008000\">│</span>  <span style=\"color: #00ff00; text-decoration-color: #00ff00\">Action: {\"query\": \"Best restaurants in Rome for Italian food near Colosseum\"}</span>                                  <span style=\"color: #008000; text-decoration-color: #008000\">│</span>\n",
       "<span style=\"color: #008000; text-decoration-color: #008000\">│</span>                                                                                                                 <span style=\"color: #008000; text-decoration-color: #008000\">│</span>\n",
       "<span style=\"color: #008000; text-decoration-color: #008000\">│</span>                                                                                                                 <span style=\"color: #008000; text-decoration-color: #008000\">│</span>\n",
       "<span style=\"color: #008000; text-decoration-color: #008000\">╰─────────────────────────────────────────────────────────────────────────────────────────────────────────────────╯</span>\n",
       "</pre>\n"
      ]
     },
     "metadata": {},
     "output_type": "display_data"
    },
    {
     "data": {
      "text/plain": [
       "\n"
      ],
      "text/html": [
       "<pre style=\"white-space:pre;overflow-x:auto;line-height:normal;font-family:Menlo,'DejaVu Sans Mono',consolas,'Courier New',monospace\">\n",
       "</pre>\n"
      ]
     },
     "metadata": {},
     "output_type": "display_data"
    },
    {
     "data": {
      "text/plain": [],
      "text/html": [
       "<pre style=\"white-space:pre;overflow-x:auto;line-height:normal;font-family:Menlo,'DejaVu Sans Mono',consolas,'Courier New',monospace\"></pre>\n"
      ]
     },
     "metadata": {},
     "output_type": "display_data"
    },
    {
     "data": {
      "text/plain": [
       "\u001B[32m╭─\u001B[0m\u001B[32m───────────────────────────────────────────────\u001B[0m\u001B[32m Task Completion \u001B[0m\u001B[32m───────────────────────────────────────────────\u001B[0m\u001B[32m─╮\u001B[0m\n",
       "\u001B[32m│\u001B[0m                                                                                                                 \u001B[32m│\u001B[0m\n",
       "\u001B[32m│\u001B[0m  \u001B[1;32mTask Completed\u001B[0m                                                                                                 \u001B[32m│\u001B[0m\n",
       "\u001B[32m│\u001B[0m  \u001B[37mName: \u001B[0m\u001B[32m21a4ac7d-5fdb-4a75-86a2-c40957b43afb\u001B[0m                                                                     \u001B[32m│\u001B[0m\n",
       "\u001B[32m│\u001B[0m  \u001B[37mAgent: \u001B[0m\u001B[32mCity Local Guide Expert\u001B[0m                                                                                 \u001B[32m│\u001B[0m\n",
       "\u001B[32m│\u001B[0m  \u001B[37mTool Args: \u001B[0m                                                                                                    \u001B[32m│\u001B[0m\n",
       "\u001B[32m│\u001B[0m                                                                                                                 \u001B[32m│\u001B[0m\n",
       "\u001B[32m│\u001B[0m                                                                                                                 \u001B[32m│\u001B[0m\n",
       "\u001B[32m╰─────────────────────────────────────────────────────────────────────────────────────────────────────────────────╯\u001B[0m\n"
      ],
      "text/html": [
       "<pre style=\"white-space:pre;overflow-x:auto;line-height:normal;font-family:Menlo,'DejaVu Sans Mono',consolas,'Courier New',monospace\"><span style=\"color: #008000; text-decoration-color: #008000\">╭──────────────────────────────────────────────── Task Completion ────────────────────────────────────────────────╮</span>\n",
       "<span style=\"color: #008000; text-decoration-color: #008000\">│</span>                                                                                                                 <span style=\"color: #008000; text-decoration-color: #008000\">│</span>\n",
       "<span style=\"color: #008000; text-decoration-color: #008000\">│</span>  <span style=\"color: #008000; text-decoration-color: #008000; font-weight: bold\">Task Completed</span>                                                                                                 <span style=\"color: #008000; text-decoration-color: #008000\">│</span>\n",
       "<span style=\"color: #008000; text-decoration-color: #008000\">│</span>  <span style=\"color: #c0c0c0; text-decoration-color: #c0c0c0\">Name: </span><span style=\"color: #008000; text-decoration-color: #008000\">21a4ac7d-5fdb-4a75-86a2-c40957b43afb</span>                                                                     <span style=\"color: #008000; text-decoration-color: #008000\">│</span>\n",
       "<span style=\"color: #008000; text-decoration-color: #008000\">│</span>  <span style=\"color: #c0c0c0; text-decoration-color: #c0c0c0\">Agent: </span><span style=\"color: #008000; text-decoration-color: #008000\">City Local Guide Expert</span>                                                                                 <span style=\"color: #008000; text-decoration-color: #008000\">│</span>\n",
       "<span style=\"color: #008000; text-decoration-color: #008000\">│</span>  <span style=\"color: #c0c0c0; text-decoration-color: #c0c0c0\">Tool Args: </span>                                                                                                    <span style=\"color: #008000; text-decoration-color: #008000\">│</span>\n",
       "<span style=\"color: #008000; text-decoration-color: #008000\">│</span>                                                                                                                 <span style=\"color: #008000; text-decoration-color: #008000\">│</span>\n",
       "<span style=\"color: #008000; text-decoration-color: #008000\">│</span>                                                                                                                 <span style=\"color: #008000; text-decoration-color: #008000\">│</span>\n",
       "<span style=\"color: #008000; text-decoration-color: #008000\">╰─────────────────────────────────────────────────────────────────────────────────────────────────────────────────╯</span>\n",
       "</pre>\n"
      ]
     },
     "metadata": {},
     "output_type": "display_data"
    },
    {
     "data": {
      "text/plain": [
       "\n"
      ],
      "text/html": [
       "<pre style=\"white-space:pre;overflow-x:auto;line-height:normal;font-family:Menlo,'DejaVu Sans Mono',consolas,'Courier New',monospace\">\n",
       "</pre>\n"
      ]
     },
     "metadata": {},
     "output_type": "display_data"
    },
    {
     "data": {
      "text/plain": [],
      "text/html": [
       "<pre style=\"white-space:pre;overflow-x:auto;line-height:normal;font-family:Menlo,'DejaVu Sans Mono',consolas,'Courier New',monospace\"></pre>\n"
      ]
     },
     "metadata": {},
     "output_type": "display_data"
    },
    {
     "data": {
      "text/plain": [
       "\u001B[35m╭─\u001B[0m\u001B[35m──────────────────────────────────────────────\u001B[0m\u001B[35m 🤖 Agent Started \u001B[0m\u001B[35m───────────────────────────────────────────────\u001B[0m\u001B[35m─╮\u001B[0m\n",
       "\u001B[35m│\u001B[0m                                                                                                                 \u001B[35m│\u001B[0m\n",
       "\u001B[35m│\u001B[0m  \u001B[37mAgent: \u001B[0m\u001B[1;92mTravel Planning Expert\u001B[0m                                                                                  \u001B[35m│\u001B[0m\n",
       "\u001B[35m│\u001B[0m                                                                                                                 \u001B[35m│\u001B[0m\n",
       "\u001B[35m│\u001B[0m  \u001B[37mTask: \u001B[0m                                                                                                         \u001B[35m│\u001B[0m\n",
       "\u001B[35m│\u001B[0m  \u001B[92m        This task synthesizes all collected information into a detaileds introduction to the city \u001B[0m             \u001B[35m│\u001B[0m\n",
       "\u001B[35m│\u001B[0m  \u001B[92m(description of city and presentation, in 3 pragraphes) cohesive and practical travel plan. and takes into \u001B[0m    \u001B[35m│\u001B[0m\n",
       "\u001B[35m│\u001B[0m  \u001B[92maccount the traveler's schedule, preferences, and budget to draft a day-by-day itinerary. The planner also \u001B[0m    \u001B[35m│\u001B[0m\n",
       "\u001B[35m│\u001B[0m  \u001B[92mprovides insights into the city's layout and transportation system to facilitate easy navigation.\u001B[0m              \u001B[35m│\u001B[0m\n",
       "\u001B[35m│\u001B[0m  \u001B[92m        Destination city : Rome\u001B[0m                                                                                \u001B[35m│\u001B[0m\n",
       "\u001B[35m│\u001B[0m  \u001B[92m        interests : sight seeing and good food\u001B[0m                                                                 \u001B[35m│\u001B[0m\n",
       "\u001B[35m│\u001B[0m  \u001B[92m        Arrival Date : 1st March 2025\u001B[0m                                                                          \u001B[35m│\u001B[0m\n",
       "\u001B[35m│\u001B[0m  \u001B[92m        Departure Date : 7th March 2025\u001B[0m                                                                        \u001B[35m│\u001B[0m\n",
       "\u001B[35m│\u001B[0m                                                                                                                 \u001B[35m│\u001B[0m\n",
       "\u001B[35m│\u001B[0m  \u001B[92m        Follow this rules : \u001B[0m                                                                                   \u001B[35m│\u001B[0m\n",
       "\u001B[35m│\u001B[0m  \u001B[92m        1. if the Rome is in a French country : Respond in FRENCH.\u001B[0m                                             \u001B[35m│\u001B[0m\n",
       "\u001B[35m│\u001B[0m  \u001B[92m        \u001B[0m                                                                                                       \u001B[35m│\u001B[0m\n",
       "\u001B[35m│\u001B[0m                                                                                                                 \u001B[35m│\u001B[0m\n",
       "\u001B[35m╰─────────────────────────────────────────────────────────────────────────────────────────────────────────────────╯\u001B[0m\n"
      ],
      "text/html": [
       "<pre style=\"white-space:pre;overflow-x:auto;line-height:normal;font-family:Menlo,'DejaVu Sans Mono',consolas,'Courier New',monospace\"><span style=\"color: #800080; text-decoration-color: #800080\">╭─────────────────────────────────────────────── 🤖 Agent Started ────────────────────────────────────────────────╮</span>\n",
       "<span style=\"color: #800080; text-decoration-color: #800080\">│</span>                                                                                                                 <span style=\"color: #800080; text-decoration-color: #800080\">│</span>\n",
       "<span style=\"color: #800080; text-decoration-color: #800080\">│</span>  <span style=\"color: #c0c0c0; text-decoration-color: #c0c0c0\">Agent: </span><span style=\"color: #00ff00; text-decoration-color: #00ff00; font-weight: bold\">Travel Planning Expert</span>                                                                                  <span style=\"color: #800080; text-decoration-color: #800080\">│</span>\n",
       "<span style=\"color: #800080; text-decoration-color: #800080\">│</span>                                                                                                                 <span style=\"color: #800080; text-decoration-color: #800080\">│</span>\n",
       "<span style=\"color: #800080; text-decoration-color: #800080\">│</span>  <span style=\"color: #c0c0c0; text-decoration-color: #c0c0c0\">Task: </span>                                                                                                         <span style=\"color: #800080; text-decoration-color: #800080\">│</span>\n",
       "<span style=\"color: #800080; text-decoration-color: #800080\">│</span>  <span style=\"color: #00ff00; text-decoration-color: #00ff00\">        This task synthesizes all collected information into a detaileds introduction to the city </span>             <span style=\"color: #800080; text-decoration-color: #800080\">│</span>\n",
       "<span style=\"color: #800080; text-decoration-color: #800080\">│</span>  <span style=\"color: #00ff00; text-decoration-color: #00ff00\">(description of city and presentation, in 3 pragraphes) cohesive and practical travel plan. and takes into </span>    <span style=\"color: #800080; text-decoration-color: #800080\">│</span>\n",
       "<span style=\"color: #800080; text-decoration-color: #800080\">│</span>  <span style=\"color: #00ff00; text-decoration-color: #00ff00\">account the traveler's schedule, preferences, and budget to draft a day-by-day itinerary. The planner also </span>    <span style=\"color: #800080; text-decoration-color: #800080\">│</span>\n",
       "<span style=\"color: #800080; text-decoration-color: #800080\">│</span>  <span style=\"color: #00ff00; text-decoration-color: #00ff00\">provides insights into the city's layout and transportation system to facilitate easy navigation.</span>              <span style=\"color: #800080; text-decoration-color: #800080\">│</span>\n",
       "<span style=\"color: #800080; text-decoration-color: #800080\">│</span>  <span style=\"color: #00ff00; text-decoration-color: #00ff00\">        Destination city : Rome</span>                                                                                <span style=\"color: #800080; text-decoration-color: #800080\">│</span>\n",
       "<span style=\"color: #800080; text-decoration-color: #800080\">│</span>  <span style=\"color: #00ff00; text-decoration-color: #00ff00\">        interests : sight seeing and good food</span>                                                                 <span style=\"color: #800080; text-decoration-color: #800080\">│</span>\n",
       "<span style=\"color: #800080; text-decoration-color: #800080\">│</span>  <span style=\"color: #00ff00; text-decoration-color: #00ff00\">        Arrival Date : 1st March 2025</span>                                                                          <span style=\"color: #800080; text-decoration-color: #800080\">│</span>\n",
       "<span style=\"color: #800080; text-decoration-color: #800080\">│</span>  <span style=\"color: #00ff00; text-decoration-color: #00ff00\">        Departure Date : 7th March 2025</span>                                                                        <span style=\"color: #800080; text-decoration-color: #800080\">│</span>\n",
       "<span style=\"color: #800080; text-decoration-color: #800080\">│</span>                                                                                                                 <span style=\"color: #800080; text-decoration-color: #800080\">│</span>\n",
       "<span style=\"color: #800080; text-decoration-color: #800080\">│</span>  <span style=\"color: #00ff00; text-decoration-color: #00ff00\">        Follow this rules : </span>                                                                                   <span style=\"color: #800080; text-decoration-color: #800080\">│</span>\n",
       "<span style=\"color: #800080; text-decoration-color: #800080\">│</span>  <span style=\"color: #00ff00; text-decoration-color: #00ff00\">        1. if the Rome is in a French country : Respond in FRENCH.</span>                                             <span style=\"color: #800080; text-decoration-color: #800080\">│</span>\n",
       "<span style=\"color: #800080; text-decoration-color: #800080\">│</span>  <span style=\"color: #00ff00; text-decoration-color: #00ff00\">        </span>                                                                                                       <span style=\"color: #800080; text-decoration-color: #800080\">│</span>\n",
       "<span style=\"color: #800080; text-decoration-color: #800080\">│</span>                                                                                                                 <span style=\"color: #800080; text-decoration-color: #800080\">│</span>\n",
       "<span style=\"color: #800080; text-decoration-color: #800080\">╰─────────────────────────────────────────────────────────────────────────────────────────────────────────────────╯</span>\n",
       "</pre>\n"
      ]
     },
     "metadata": {},
     "output_type": "display_data"
    },
    {
     "data": {
      "text/plain": [
       "\n"
      ],
      "text/html": [
       "<pre style=\"white-space:pre;overflow-x:auto;line-height:normal;font-family:Menlo,'DejaVu Sans Mono',consolas,'Courier New',monospace\">\n",
       "</pre>\n"
      ]
     },
     "metadata": {},
     "output_type": "display_data"
    },
    {
     "data": {
      "text/plain": [
       "Output()"
      ],
      "application/vnd.jupyter.widget-view+json": {
       "version_major": 2,
       "version_minor": 0,
       "model_id": "e1a2781cb5ea4a31b7f3415e87bc7aef"
      }
     },
     "metadata": {},
     "output_type": "display_data"
    },
    {
     "data": {
      "text/plain": [],
      "text/html": [
       "<pre style=\"white-space:pre;overflow-x:auto;line-height:normal;font-family:Menlo,'DejaVu Sans Mono',consolas,'Courier New',monospace\"></pre>\n"
      ]
     },
     "metadata": {},
     "output_type": "display_data"
    },
    {
     "data": {
      "text/plain": [
       "\u001B[32m╭─\u001B[0m\u001B[32m────────────────────────────────────────────\u001B[0m\u001B[32m ✅ Agent Final Answer \u001B[0m\u001B[32m────────────────────────────────────────────\u001B[0m\u001B[32m─╮\u001B[0m\n",
       "\u001B[32m│\u001B[0m                                                                                                                 \u001B[32m│\u001B[0m\n",
       "\u001B[32m│\u001B[0m  \u001B[37mAgent: \u001B[0m\u001B[1;92mTravel Planning Expert\u001B[0m                                                                                  \u001B[32m│\u001B[0m\n",
       "\u001B[32m│\u001B[0m                                                                                                                 \u001B[32m│\u001B[0m\n",
       "\u001B[32m│\u001B[0m  \u001B[37mFinal Answer:\u001B[0m                                                                                                  \u001B[32m│\u001B[0m\n",
       "\u001B[32m│\u001B[0m  \u001B[92mThought: I need to find out if Rome is in a French country.\u001B[0m                                                    \u001B[32m│\u001B[0m\n",
       "\u001B[32m│\u001B[0m  \u001B[92mAction: {\"query\": \"Is Rome Italy or France\"}\u001B[0m                                                                   \u001B[32m│\u001B[0m\n",
       "\u001B[32m│\u001B[0m                                                                                                                 \u001B[32m│\u001B[0m\n",
       "\u001B[32m│\u001B[0m                                                                                                                 \u001B[32m│\u001B[0m\n",
       "\u001B[32m╰─────────────────────────────────────────────────────────────────────────────────────────────────────────────────╯\u001B[0m\n"
      ],
      "text/html": [
       "<pre style=\"white-space:pre;overflow-x:auto;line-height:normal;font-family:Menlo,'DejaVu Sans Mono',consolas,'Courier New',monospace\"><span style=\"color: #008000; text-decoration-color: #008000\">╭───────────────────────────────────────────── ✅ Agent Final Answer ─────────────────────────────────────────────╮</span>\n",
       "<span style=\"color: #008000; text-decoration-color: #008000\">│</span>                                                                                                                 <span style=\"color: #008000; text-decoration-color: #008000\">│</span>\n",
       "<span style=\"color: #008000; text-decoration-color: #008000\">│</span>  <span style=\"color: #c0c0c0; text-decoration-color: #c0c0c0\">Agent: </span><span style=\"color: #00ff00; text-decoration-color: #00ff00; font-weight: bold\">Travel Planning Expert</span>                                                                                  <span style=\"color: #008000; text-decoration-color: #008000\">│</span>\n",
       "<span style=\"color: #008000; text-decoration-color: #008000\">│</span>                                                                                                                 <span style=\"color: #008000; text-decoration-color: #008000\">│</span>\n",
       "<span style=\"color: #008000; text-decoration-color: #008000\">│</span>  <span style=\"color: #c0c0c0; text-decoration-color: #c0c0c0\">Final Answer:</span>                                                                                                  <span style=\"color: #008000; text-decoration-color: #008000\">│</span>\n",
       "<span style=\"color: #008000; text-decoration-color: #008000\">│</span>  <span style=\"color: #00ff00; text-decoration-color: #00ff00\">Thought: I need to find out if Rome is in a French country.</span>                                                    <span style=\"color: #008000; text-decoration-color: #008000\">│</span>\n",
       "<span style=\"color: #008000; text-decoration-color: #008000\">│</span>  <span style=\"color: #00ff00; text-decoration-color: #00ff00\">Action: {\"query\": \"Is Rome Italy or France\"}</span>                                                                   <span style=\"color: #008000; text-decoration-color: #008000\">│</span>\n",
       "<span style=\"color: #008000; text-decoration-color: #008000\">│</span>                                                                                                                 <span style=\"color: #008000; text-decoration-color: #008000\">│</span>\n",
       "<span style=\"color: #008000; text-decoration-color: #008000\">│</span>                                                                                                                 <span style=\"color: #008000; text-decoration-color: #008000\">│</span>\n",
       "<span style=\"color: #008000; text-decoration-color: #008000\">╰─────────────────────────────────────────────────────────────────────────────────────────────────────────────────╯</span>\n",
       "</pre>\n"
      ]
     },
     "metadata": {},
     "output_type": "display_data"
    },
    {
     "data": {
      "text/plain": [
       "\n"
      ],
      "text/html": [
       "<pre style=\"white-space:pre;overflow-x:auto;line-height:normal;font-family:Menlo,'DejaVu Sans Mono',consolas,'Courier New',monospace\">\n",
       "</pre>\n"
      ]
     },
     "metadata": {},
     "output_type": "display_data"
    },
    {
     "data": {
      "text/plain": [],
      "text/html": [
       "<pre style=\"white-space:pre;overflow-x:auto;line-height:normal;font-family:Menlo,'DejaVu Sans Mono',consolas,'Courier New',monospace\"></pre>\n"
      ]
     },
     "metadata": {},
     "output_type": "display_data"
    },
    {
     "data": {
      "text/plain": [
       "\u001B[32m╭─\u001B[0m\u001B[32m───────────────────────────────────────────────\u001B[0m\u001B[32m Task Completion \u001B[0m\u001B[32m───────────────────────────────────────────────\u001B[0m\u001B[32m─╮\u001B[0m\n",
       "\u001B[32m│\u001B[0m                                                                                                                 \u001B[32m│\u001B[0m\n",
       "\u001B[32m│\u001B[0m  \u001B[1;32mTask Completed\u001B[0m                                                                                                 \u001B[32m│\u001B[0m\n",
       "\u001B[32m│\u001B[0m  \u001B[37mName: \u001B[0m\u001B[32mf05f4323-194a-41ef-9217-ec2bcfcb006e\u001B[0m                                                                     \u001B[32m│\u001B[0m\n",
       "\u001B[32m│\u001B[0m  \u001B[37mAgent: \u001B[0m\u001B[32mTravel Planning Expert\u001B[0m                                                                                  \u001B[32m│\u001B[0m\n",
       "\u001B[32m│\u001B[0m  \u001B[37mTool Args: \u001B[0m                                                                                                    \u001B[32m│\u001B[0m\n",
       "\u001B[32m│\u001B[0m                                                                                                                 \u001B[32m│\u001B[0m\n",
       "\u001B[32m│\u001B[0m                                                                                                                 \u001B[32m│\u001B[0m\n",
       "\u001B[32m╰─────────────────────────────────────────────────────────────────────────────────────────────────────────────────╯\u001B[0m\n"
      ],
      "text/html": [
       "<pre style=\"white-space:pre;overflow-x:auto;line-height:normal;font-family:Menlo,'DejaVu Sans Mono',consolas,'Courier New',monospace\"><span style=\"color: #008000; text-decoration-color: #008000\">╭──────────────────────────────────────────────── Task Completion ────────────────────────────────────────────────╮</span>\n",
       "<span style=\"color: #008000; text-decoration-color: #008000\">│</span>                                                                                                                 <span style=\"color: #008000; text-decoration-color: #008000\">│</span>\n",
       "<span style=\"color: #008000; text-decoration-color: #008000\">│</span>  <span style=\"color: #008000; text-decoration-color: #008000; font-weight: bold\">Task Completed</span>                                                                                                 <span style=\"color: #008000; text-decoration-color: #008000\">│</span>\n",
       "<span style=\"color: #008000; text-decoration-color: #008000\">│</span>  <span style=\"color: #c0c0c0; text-decoration-color: #c0c0c0\">Name: </span><span style=\"color: #008000; text-decoration-color: #008000\">f05f4323-194a-41ef-9217-ec2bcfcb006e</span>                                                                     <span style=\"color: #008000; text-decoration-color: #008000\">│</span>\n",
       "<span style=\"color: #008000; text-decoration-color: #008000\">│</span>  <span style=\"color: #c0c0c0; text-decoration-color: #c0c0c0\">Agent: </span><span style=\"color: #008000; text-decoration-color: #008000\">Travel Planning Expert</span>                                                                                  <span style=\"color: #008000; text-decoration-color: #008000\">│</span>\n",
       "<span style=\"color: #008000; text-decoration-color: #008000\">│</span>  <span style=\"color: #c0c0c0; text-decoration-color: #c0c0c0\">Tool Args: </span>                                                                                                    <span style=\"color: #008000; text-decoration-color: #008000\">│</span>\n",
       "<span style=\"color: #008000; text-decoration-color: #008000\">│</span>                                                                                                                 <span style=\"color: #008000; text-decoration-color: #008000\">│</span>\n",
       "<span style=\"color: #008000; text-decoration-color: #008000\">│</span>                                                                                                                 <span style=\"color: #008000; text-decoration-color: #008000\">│</span>\n",
       "<span style=\"color: #008000; text-decoration-color: #008000\">╰─────────────────────────────────────────────────────────────────────────────────────────────────────────────────╯</span>\n",
       "</pre>\n"
      ]
     },
     "metadata": {},
     "output_type": "display_data"
    },
    {
     "data": {
      "text/plain": [
       "\n"
      ],
      "text/html": [
       "<pre style=\"white-space:pre;overflow-x:auto;line-height:normal;font-family:Menlo,'DejaVu Sans Mono',consolas,'Courier New',monospace\">\n",
       "</pre>\n"
      ]
     },
     "metadata": {},
     "output_type": "display_data"
    },
    {
     "data": {
      "text/plain": [
       "\u001B[32m╭─\u001B[0m\u001B[32m───────────────────────────────────────────────\u001B[0m\u001B[32m Crew Completion \u001B[0m\u001B[32m───────────────────────────────────────────────\u001B[0m\u001B[32m─╮\u001B[0m\n",
       "\u001B[32m│\u001B[0m                                                                                                                 \u001B[32m│\u001B[0m\n",
       "\u001B[32m│\u001B[0m  \u001B[1;32mCrew Execution Completed\u001B[0m                                                                                       \u001B[32m│\u001B[0m\n",
       "\u001B[32m│\u001B[0m  \u001B[37mName: \u001B[0m\u001B[32mcrew\u001B[0m                                                                                                     \u001B[32m│\u001B[0m\n",
       "\u001B[32m│\u001B[0m  \u001B[37mID: \u001B[0m\u001B[32m56703dec-3d8d-4aea-810f-8dfbf041c1d5\u001B[0m                                                                       \u001B[32m│\u001B[0m\n",
       "\u001B[32m│\u001B[0m  \u001B[37mTool Args: \u001B[0m                                                                                                    \u001B[32m│\u001B[0m\n",
       "\u001B[32m│\u001B[0m  \u001B[37mFinal Output: Thought: I need to find out if Rome is in a French country.\u001B[0m                                      \u001B[32m│\u001B[0m\n",
       "\u001B[32m│\u001B[0m  \u001B[37mAction: {\"query\": \"Is Rome Italy or France\"}\u001B[0m                                                                   \u001B[32m│\u001B[0m\n",
       "\u001B[32m│\u001B[0m                                                                                                                 \u001B[32m│\u001B[0m\n",
       "\u001B[32m│\u001B[0m                                                                                                                 \u001B[32m│\u001B[0m\n",
       "\u001B[32m│\u001B[0m                                                                                                                 \u001B[32m│\u001B[0m\n",
       "\u001B[32m╰─────────────────────────────────────────────────────────────────────────────────────────────────────────────────╯\u001B[0m\n"
      ],
      "text/html": [
       "<pre style=\"white-space:pre;overflow-x:auto;line-height:normal;font-family:Menlo,'DejaVu Sans Mono',consolas,'Courier New',monospace\"><span style=\"color: #008000; text-decoration-color: #008000\">╭──────────────────────────────────────────────── Crew Completion ────────────────────────────────────────────────╮</span>\n",
       "<span style=\"color: #008000; text-decoration-color: #008000\">│</span>                                                                                                                 <span style=\"color: #008000; text-decoration-color: #008000\">│</span>\n",
       "<span style=\"color: #008000; text-decoration-color: #008000\">│</span>  <span style=\"color: #008000; text-decoration-color: #008000; font-weight: bold\">Crew Execution Completed</span>                                                                                       <span style=\"color: #008000; text-decoration-color: #008000\">│</span>\n",
       "<span style=\"color: #008000; text-decoration-color: #008000\">│</span>  <span style=\"color: #c0c0c0; text-decoration-color: #c0c0c0\">Name: </span><span style=\"color: #008000; text-decoration-color: #008000\">crew</span>                                                                                                     <span style=\"color: #008000; text-decoration-color: #008000\">│</span>\n",
       "<span style=\"color: #008000; text-decoration-color: #008000\">│</span>  <span style=\"color: #c0c0c0; text-decoration-color: #c0c0c0\">ID: </span><span style=\"color: #008000; text-decoration-color: #008000\">56703dec-3d8d-4aea-810f-8dfbf041c1d5</span>                                                                       <span style=\"color: #008000; text-decoration-color: #008000\">│</span>\n",
       "<span style=\"color: #008000; text-decoration-color: #008000\">│</span>  <span style=\"color: #c0c0c0; text-decoration-color: #c0c0c0\">Tool Args: </span>                                                                                                    <span style=\"color: #008000; text-decoration-color: #008000\">│</span>\n",
       "<span style=\"color: #008000; text-decoration-color: #008000\">│</span>  <span style=\"color: #c0c0c0; text-decoration-color: #c0c0c0\">Final Output: Thought: I need to find out if Rome is in a French country.</span>                                      <span style=\"color: #008000; text-decoration-color: #008000\">│</span>\n",
       "<span style=\"color: #008000; text-decoration-color: #008000\">│</span>  <span style=\"color: #c0c0c0; text-decoration-color: #c0c0c0\">Action: {\"query\": \"Is Rome Italy or France\"}</span>                                                                   <span style=\"color: #008000; text-decoration-color: #008000\">│</span>\n",
       "<span style=\"color: #008000; text-decoration-color: #008000\">│</span>                                                                                                                 <span style=\"color: #008000; text-decoration-color: #008000\">│</span>\n",
       "<span style=\"color: #008000; text-decoration-color: #008000\">│</span>                                                                                                                 <span style=\"color: #008000; text-decoration-color: #008000\">│</span>\n",
       "<span style=\"color: #008000; text-decoration-color: #008000\">│</span>                                                                                                                 <span style=\"color: #008000; text-decoration-color: #008000\">│</span>\n",
       "<span style=\"color: #008000; text-decoration-color: #008000\">╰─────────────────────────────────────────────────────────────────────────────────────────────────────────────────╯</span>\n",
       "</pre>\n"
      ]
     },
     "metadata": {},
     "output_type": "display_data"
    },
    {
     "data": {
      "text/plain": [
       "\n"
      ],
      "text/html": [
       "<pre style=\"white-space:pre;overflow-x:auto;line-height:normal;font-family:Menlo,'DejaVu Sans Mono',consolas,'Courier New',monospace\">\n",
       "</pre>\n"
      ]
     },
     "metadata": {},
     "output_type": "display_data"
    }
   ],
   "execution_count": 40
  },
  {
   "cell_type": "code",
   "id": "bccbf597-7da4-438d-8808-d0c8ad81b703",
   "metadata": {
    "ExecuteTime": {
     "end_time": "2025-07-09T16:09:18.405471Z",
     "start_time": "2025-07-09T16:09:18.401969Z"
    }
   },
   "source": [],
   "outputs": [],
   "execution_count": null
  }
 ],
 "metadata": {
  "kernelspec": {
   "display_name": "Python 3 (ipykernel)",
   "language": "python",
   "name": "python3"
  },
  "language_info": {
   "codemirror_mode": {
    "name": "ipython",
    "version": 3
   },
   "file_extension": ".py",
   "mimetype": "text/x-python",
   "name": "python",
   "nbconvert_exporter": "python",
   "pygments_lexer": "ipython3",
   "version": "3.10.11"
  }
 },
 "nbformat": 4,
 "nbformat_minor": 5
}
